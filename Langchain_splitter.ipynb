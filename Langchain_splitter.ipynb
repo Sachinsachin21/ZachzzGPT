{
 "cells": [
  {
   "cell_type": "code",
   "execution_count": 1,
   "id": "b2fc2eb2-fd8d-4414-99a2-c4c31e9f5917",
   "metadata": {},
   "outputs": [
    {
     "name": "stdout",
     "output_type": "stream",
     "text": [
      "Requirement already satisfied: langchain-community in c:\\users\\sachi\\appdata\\local\\programs\\python\\python311\\lib\\site-packages (0.3.8)Note: you may need to restart the kernel to use updated packages.\n"
     ]
    },
    {
     "name": "stderr",
     "output_type": "stream",
     "text": [
      "\n",
      "[notice] A new release of pip is available: 24.0 -> 24.3.1\n",
      "[notice] To update, run: python.exe -m pip install --upgrade pip\n"
     ]
    },
    {
     "name": "stdout",
     "output_type": "stream",
     "text": [
      "\n",
      "Requirement already satisfied: PyYAML>=5.3 in c:\\users\\sachi\\appdata\\local\\programs\\python\\python311\\lib\\site-packages (from langchain-community) (6.0)\n",
      "Requirement already satisfied: SQLAlchemy<2.0.36,>=1.4 in c:\\users\\sachi\\appdata\\local\\programs\\python\\python311\\lib\\site-packages (from langchain-community) (2.0.35)\n",
      "Requirement already satisfied: aiohttp<4.0.0,>=3.8.3 in c:\\users\\sachi\\appdata\\local\\programs\\python\\python311\\lib\\site-packages (from langchain-community) (3.10.5)\n",
      "Requirement already satisfied: dataclasses-json<0.7,>=0.5.7 in c:\\users\\sachi\\appdata\\local\\programs\\python\\python311\\lib\\site-packages (from langchain-community) (0.6.7)\n",
      "Requirement already satisfied: httpx-sse<0.5.0,>=0.4.0 in c:\\users\\sachi\\appdata\\local\\programs\\python\\python311\\lib\\site-packages (from langchain-community) (0.4.0)\n",
      "Requirement already satisfied: langchain<0.4.0,>=0.3.8 in c:\\users\\sachi\\appdata\\local\\programs\\python\\python311\\lib\\site-packages (from langchain-community) (0.3.9)\n",
      "Requirement already satisfied: langchain-core<0.4.0,>=0.3.21 in c:\\users\\sachi\\appdata\\local\\programs\\python\\python311\\lib\\site-packages (from langchain-community) (0.3.21)\n",
      "Requirement already satisfied: langsmith<0.2.0,>=0.1.125 in c:\\users\\sachi\\appdata\\local\\programs\\python\\python311\\lib\\site-packages (from langchain-community) (0.1.147)\n",
      "Requirement already satisfied: numpy<2,>=1.22.4 in c:\\users\\sachi\\appdata\\local\\programs\\python\\python311\\lib\\site-packages (from langchain-community) (1.25.0)\n",
      "Requirement already satisfied: pydantic-settings<3.0.0,>=2.4.0 in c:\\users\\sachi\\appdata\\local\\programs\\python\\python311\\lib\\site-packages (from langchain-community) (2.6.1)\n",
      "Requirement already satisfied: requests<3,>=2 in c:\\users\\sachi\\appdata\\local\\programs\\python\\python311\\lib\\site-packages (from langchain-community) (2.32.3)\n",
      "Requirement already satisfied: tenacity!=8.4.0,<10,>=8.1.0 in c:\\users\\sachi\\appdata\\local\\programs\\python\\python311\\lib\\site-packages (from langchain-community) (8.4.2)\n",
      "Requirement already satisfied: aiohappyeyeballs>=2.3.0 in c:\\users\\sachi\\appdata\\local\\programs\\python\\python311\\lib\\site-packages (from aiohttp<4.0.0,>=3.8.3->langchain-community) (2.4.0)\n",
      "Requirement already satisfied: aiosignal>=1.1.2 in c:\\users\\sachi\\appdata\\local\\programs\\python\\python311\\lib\\site-packages (from aiohttp<4.0.0,>=3.8.3->langchain-community) (1.3.1)\n",
      "Requirement already satisfied: attrs>=17.3.0 in c:\\users\\sachi\\appdata\\local\\programs\\python\\python311\\lib\\site-packages (from aiohttp<4.0.0,>=3.8.3->langchain-community) (23.1.0)\n",
      "Requirement already satisfied: frozenlist>=1.1.1 in c:\\users\\sachi\\appdata\\local\\programs\\python\\python311\\lib\\site-packages (from aiohttp<4.0.0,>=3.8.3->langchain-community) (1.4.1)\n",
      "Requirement already satisfied: multidict<7.0,>=4.5 in c:\\users\\sachi\\appdata\\local\\programs\\python\\python311\\lib\\site-packages (from aiohttp<4.0.0,>=3.8.3->langchain-community) (6.0.5)\n",
      "Requirement already satisfied: yarl<2.0,>=1.0 in c:\\users\\sachi\\appdata\\local\\programs\\python\\python311\\lib\\site-packages (from aiohttp<4.0.0,>=3.8.3->langchain-community) (1.9.7)\n",
      "Requirement already satisfied: marshmallow<4.0.0,>=3.18.0 in c:\\users\\sachi\\appdata\\local\\programs\\python\\python311\\lib\\site-packages (from dataclasses-json<0.7,>=0.5.7->langchain-community) (3.23.1)\n",
      "Requirement already satisfied: typing-inspect<1,>=0.4.0 in c:\\users\\sachi\\appdata\\local\\programs\\python\\python311\\lib\\site-packages (from dataclasses-json<0.7,>=0.5.7->langchain-community) (0.9.0)\n",
      "Requirement already satisfied: langchain-text-splitters<0.4.0,>=0.3.0 in c:\\users\\sachi\\appdata\\local\\programs\\python\\python311\\lib\\site-packages (from langchain<0.4.0,>=0.3.8->langchain-community) (0.3.2)\n",
      "Requirement already satisfied: pydantic<3.0.0,>=2.7.4 in c:\\users\\sachi\\appdata\\local\\programs\\python\\python311\\lib\\site-packages (from langchain<0.4.0,>=0.3.8->langchain-community) (2.9.2)\n",
      "Requirement already satisfied: jsonpatch<2.0,>=1.33 in c:\\users\\sachi\\appdata\\local\\programs\\python\\python311\\lib\\site-packages (from langchain-core<0.4.0,>=0.3.21->langchain-community) (1.33)\n",
      "Requirement already satisfied: packaging<25,>=23.2 in c:\\users\\sachi\\appdata\\local\\programs\\python\\python311\\lib\\site-packages (from langchain-core<0.4.0,>=0.3.21->langchain-community) (24.2)\n",
      "Requirement already satisfied: typing-extensions>=4.7 in c:\\users\\sachi\\appdata\\local\\programs\\python\\python311\\lib\\site-packages (from langchain-core<0.4.0,>=0.3.21->langchain-community) (4.12.2)\n",
      "Requirement already satisfied: httpx<1,>=0.23.0 in c:\\users\\sachi\\appdata\\local\\programs\\python\\python311\\lib\\site-packages (from langsmith<0.2.0,>=0.1.125->langchain-community) (0.28.0)\n",
      "Requirement already satisfied: orjson<4.0.0,>=3.9.14 in c:\\users\\sachi\\appdata\\local\\programs\\python\\python311\\lib\\site-packages (from langsmith<0.2.0,>=0.1.125->langchain-community) (3.10.12)\n",
      "Requirement already satisfied: requests-toolbelt<2.0.0,>=1.0.0 in c:\\users\\sachi\\appdata\\local\\programs\\python\\python311\\lib\\site-packages (from langsmith<0.2.0,>=0.1.125->langchain-community) (1.0.0)\n",
      "Requirement already satisfied: python-dotenv>=0.21.0 in c:\\users\\sachi\\appdata\\local\\programs\\python\\python311\\lib\\site-packages (from pydantic-settings<3.0.0,>=2.4.0->langchain-community) (1.0.1)\n",
      "Requirement already satisfied: charset-normalizer<4,>=2 in c:\\users\\sachi\\appdata\\local\\programs\\python\\python311\\lib\\site-packages (from requests<3,>=2->langchain-community) (3.2.0)\n",
      "Requirement already satisfied: idna<4,>=2.5 in c:\\users\\sachi\\appdata\\local\\programs\\python\\python311\\lib\\site-packages (from requests<3,>=2->langchain-community) (3.4)\n",
      "Requirement already satisfied: urllib3<3,>=1.21.1 in c:\\users\\sachi\\appdata\\local\\programs\\python\\python311\\lib\\site-packages (from requests<3,>=2->langchain-community) (2.0.5)\n",
      "Requirement already satisfied: certifi>=2017.4.17 in c:\\users\\sachi\\appdata\\local\\programs\\python\\python311\\lib\\site-packages (from requests<3,>=2->langchain-community) (2023.7.22)\n",
      "Requirement already satisfied: greenlet!=0.4.17 in c:\\users\\sachi\\appdata\\local\\programs\\python\\python311\\lib\\site-packages (from SQLAlchemy<2.0.36,>=1.4->langchain-community) (3.1.1)\n",
      "Requirement already satisfied: anyio in c:\\users\\sachi\\appdata\\local\\programs\\python\\python311\\lib\\site-packages (from httpx<1,>=0.23.0->langsmith<0.2.0,>=0.1.125->langchain-community) (4.0.0)\n",
      "Requirement already satisfied: httpcore==1.* in c:\\users\\sachi\\appdata\\local\\programs\\python\\python311\\lib\\site-packages (from httpx<1,>=0.23.0->langsmith<0.2.0,>=0.1.125->langchain-community) (1.0.7)\n",
      "Requirement already satisfied: h11<0.15,>=0.13 in c:\\users\\sachi\\appdata\\local\\programs\\python\\python311\\lib\\site-packages (from httpcore==1.*->httpx<1,>=0.23.0->langsmith<0.2.0,>=0.1.125->langchain-community) (0.14.0)\n",
      "Requirement already satisfied: jsonpointer>=1.9 in c:\\users\\sachi\\appdata\\local\\programs\\python\\python311\\lib\\site-packages (from jsonpatch<2.0,>=1.33->langchain-core<0.4.0,>=0.3.21->langchain-community) (2.4)\n",
      "Requirement already satisfied: annotated-types>=0.6.0 in c:\\users\\sachi\\appdata\\local\\programs\\python\\python311\\lib\\site-packages (from pydantic<3.0.0,>=2.7.4->langchain<0.4.0,>=0.3.8->langchain-community) (0.7.0)\n",
      "Requirement already satisfied: pydantic-core==2.23.4 in c:\\users\\sachi\\appdata\\local\\programs\\python\\python311\\lib\\site-packages (from pydantic<3.0.0,>=2.7.4->langchain<0.4.0,>=0.3.8->langchain-community) (2.23.4)\n",
      "Requirement already satisfied: mypy-extensions>=0.3.0 in c:\\users\\sachi\\appdata\\local\\programs\\python\\python311\\lib\\site-packages (from typing-inspect<1,>=0.4.0->dataclasses-json<0.7,>=0.5.7->langchain-community) (1.0.0)\n",
      "Requirement already satisfied: sniffio>=1.1 in c:\\users\\sachi\\appdata\\local\\programs\\python\\python311\\lib\\site-packages (from anyio->httpx<1,>=0.23.0->langsmith<0.2.0,>=0.1.125->langchain-community) (1.3.0)\n"
     ]
    }
   ],
   "source": [
    "pip install -U langchain-community"
   ]
  },
  {
   "cell_type": "code",
   "execution_count": 2,
   "id": "cfa55d06-780b-4c27-88ce-0dd60e07f8dd",
   "metadata": {},
   "outputs": [
    {
     "name": "stdout",
     "output_type": "stream",
     "text": [
      "Name: langchain-community\n",
      "Version: 0.3.8\n",
      "Summary: Community contributed LangChain integrations.\n",
      "Home-page: https://github.com/langchain-ai/langchain\n",
      "Author: \n",
      "Author-email: \n",
      "License: MIT\n",
      "Location: C:\\Users\\sachi\\AppData\\Local\\Programs\\Python\\Python311\\Lib\\site-packages\n",
      "Requires: aiohttp, dataclasses-json, httpx-sse, langchain, langchain-core, langsmith, numpy, pydantic-settings, PyYAML, requests, SQLAlchemy, tenacity\n",
      "Required-by: \n",
      "Note: you may need to restart the kernel to use updated packages.\n"
     ]
    }
   ],
   "source": [
    "pip show langchain-community"
   ]
  },
  {
   "cell_type": "code",
   "execution_count": 3,
   "id": "f6822553-d29c-4595-bf4b-bb6e00aca0cc",
   "metadata": {},
   "outputs": [
    {
     "name": "stdout",
     "output_type": "stream",
     "text": [
      "Requirement already satisfied: langchain in c:\\users\\sachi\\appdata\\local\\programs\\python\\python311\\lib\\site-packages (0.3.9)\n",
      "Requirement already satisfied: PyYAML>=5.3 in c:\\users\\sachi\\appdata\\local\\programs\\python\\python311\\lib\\site-packages (from langchain) (6.0)\n",
      "Requirement already satisfied: SQLAlchemy<3,>=1.4 in c:\\users\\sachi\\appdata\\local\\programs\\python\\python311\\lib\\site-packages (from langchain) (2.0.35)\n",
      "Requirement already satisfied: aiohttp<4.0.0,>=3.8.3 in c:\\users\\sachi\\appdata\\local\\programs\\python\\python311\\lib\\site-packages (from langchain) (3.10.5)\n",
      "Requirement already satisfied: langchain-core<0.4.0,>=0.3.21 in c:\\users\\sachi\\appdata\\local\\programs\\python\\python311\\lib\\site-packages (from langchain) (0.3.21)\n",
      "Requirement already satisfied: langchain-text-splitters<0.4.0,>=0.3.0 in c:\\users\\sachi\\appdata\\local\\programs\\python\\python311\\lib\\site-packages (from langchain) (0.3.2)\n",
      "Requirement already satisfied: langsmith<0.2.0,>=0.1.17 in c:\\users\\sachi\\appdata\\local\\programs\\python\\python311\\lib\\site-packages (from langchain) (0.1.147)\n",
      "Requirement already satisfied: numpy<2,>=1.22.4 in c:\\users\\sachi\\appdata\\local\\programs\\python\\python311\\lib\\site-packages (from langchain) (1.25.0)\n",
      "Requirement already satisfied: pydantic<3.0.0,>=2.7.4 in c:\\users\\sachi\\appdata\\local\\programs\\python\\python311\\lib\\site-packages (from langchain) (2.9.2)\n",
      "Requirement already satisfied: requests<3,>=2 in c:\\users\\sachi\\appdata\\local\\programs\\python\\python311\\lib\\site-packages (from langchain) (2.32.3)\n",
      "Requirement already satisfied: tenacity!=8.4.0,<10,>=8.1.0 in c:\\users\\sachi\\appdata\\local\\programs\\python\\python311\\lib\\site-packages (from langchain) (8.4.2)\n",
      "Requirement already satisfied: aiohappyeyeballs>=2.3.0 in c:\\users\\sachi\\appdata\\local\\programs\\python\\python311\\lib\\site-packages (from aiohttp<4.0.0,>=3.8.3->langchain) (2.4.0)\n",
      "Requirement already satisfied: aiosignal>=1.1.2 in c:\\users\\sachi\\appdata\\local\\programs\\python\\python311\\lib\\site-packages (from aiohttp<4.0.0,>=3.8.3->langchain) (1.3.1)\n",
      "Requirement already satisfied: attrs>=17.3.0 in c:\\users\\sachi\\appdata\\local\\programs\\python\\python311\\lib\\site-packages (from aiohttp<4.0.0,>=3.8.3->langchain) (23.1.0)\n",
      "Requirement already satisfied: frozenlist>=1.1.1 in c:\\users\\sachi\\appdata\\local\\programs\\python\\python311\\lib\\site-packages (from aiohttp<4.0.0,>=3.8.3->langchain) (1.4.1)\n",
      "Requirement already satisfied: multidict<7.0,>=4.5 in c:\\users\\sachi\\appdata\\local\\programs\\python\\python311\\lib\\site-packages (from aiohttp<4.0.0,>=3.8.3->langchain) (6.0.5)\n",
      "Requirement already satisfied: yarl<2.0,>=1.0 in c:\\users\\sachi\\appdata\\local\\programs\\python\\python311\\lib\\site-packages (from aiohttp<4.0.0,>=3.8.3->langchain) (1.9.7)\n",
      "Requirement already satisfied: jsonpatch<2.0,>=1.33 in c:\\users\\sachi\\appdata\\local\\programs\\python\\python311\\lib\\site-packages (from langchain-core<0.4.0,>=0.3.21->langchain) (1.33)\n",
      "Requirement already satisfied: packaging<25,>=23.2 in c:\\users\\sachi\\appdata\\local\\programs\\python\\python311\\lib\\site-packages (from langchain-core<0.4.0,>=0.3.21->langchain) (24.2)\n",
      "Requirement already satisfied: typing-extensions>=4.7 in c:\\users\\sachi\\appdata\\local\\programs\\python\\python311\\lib\\site-packages (from langchain-core<0.4.0,>=0.3.21->langchain) (4.12.2)\n",
      "Requirement already satisfied: httpx<1,>=0.23.0 in c:\\users\\sachi\\appdata\\local\\programs\\python\\python311\\lib\\site-packages (from langsmith<0.2.0,>=0.1.17->langchain) (0.28.0)\n",
      "Requirement already satisfied: orjson<4.0.0,>=3.9.14 in c:\\users\\sachi\\appdata\\local\\programs\\python\\python311\\lib\\site-packages (from langsmith<0.2.0,>=0.1.17->langchain) (3.10.12)\n",
      "Requirement already satisfied: requests-toolbelt<2.0.0,>=1.0.0 in c:\\users\\sachi\\appdata\\local\\programs\\python\\python311\\lib\\site-packages (from langsmith<0.2.0,>=0.1.17->langchain) (1.0.0)\n",
      "Requirement already satisfied: annotated-types>=0.6.0 in c:\\users\\sachi\\appdata\\local\\programs\\python\\python311\\lib\\site-packages (from pydantic<3.0.0,>=2.7.4->langchain) (0.7.0)\n",
      "Requirement already satisfied: pydantic-core==2.23.4 in c:\\users\\sachi\\appdata\\local\\programs\\python\\python311\\lib\\site-packages (from pydantic<3.0.0,>=2.7.4->langchain) (2.23.4)\n",
      "Requirement already satisfied: charset-normalizer<4,>=2 in c:\\users\\sachi\\appdata\\local\\programs\\python\\python311\\lib\\site-packages (from requests<3,>=2->langchain) (3.2.0)\n",
      "Requirement already satisfied: idna<4,>=2.5 in c:\\users\\sachi\\appdata\\local\\programs\\python\\python311\\lib\\site-packages (from requests<3,>=2->langchain) (3.4)\n",
      "Requirement already satisfied: urllib3<3,>=1.21.1 in c:\\users\\sachi\\appdata\\local\\programs\\python\\python311\\lib\\site-packages (from requests<3,>=2->langchain) (2.0.5)\n",
      "Requirement already satisfied: certifi>=2017.4.17 in c:\\users\\sachi\\appdata\\local\\programs\\python\\python311\\lib\\site-packages (from requests<3,>=2->langchain) (2023.7.22)\n",
      "Requirement already satisfied: greenlet!=0.4.17 in c:\\users\\sachi\\appdata\\local\\programs\\python\\python311\\lib\\site-packages (from SQLAlchemy<3,>=1.4->langchain) (3.1.1)\n",
      "Requirement already satisfied: anyio in c:\\users\\sachi\\appdata\\local\\programs\\python\\python311\\lib\\site-packages (from httpx<1,>=0.23.0->langsmith<0.2.0,>=0.1.17->langchain) (4.0.0)\n",
      "Requirement already satisfied: httpcore==1.* in c:\\users\\sachi\\appdata\\local\\programs\\python\\python311\\lib\\site-packages (from httpx<1,>=0.23.0->langsmith<0.2.0,>=0.1.17->langchain) (1.0.7)\n",
      "Requirement already satisfied: h11<0.15,>=0.13 in c:\\users\\sachi\\appdata\\local\\programs\\python\\python311\\lib\\site-packages (from httpcore==1.*->httpx<1,>=0.23.0->langsmith<0.2.0,>=0.1.17->langchain) (0.14.0)\n",
      "Requirement already satisfied: jsonpointer>=1.9 in c:\\users\\sachi\\appdata\\local\\programs\\python\\python311\\lib\\site-packages (from jsonpatch<2.0,>=1.33->langchain-core<0.4.0,>=0.3.21->langchain) (2.4)\n",
      "Requirement already satisfied: sniffio>=1.1 in c:\\users\\sachi\\appdata\\local\\programs\\python\\python311\\lib\\site-packages (from anyio->httpx<1,>=0.23.0->langsmith<0.2.0,>=0.1.17->langchain) (1.3.0)\n",
      "Note: you may need to restart the kernel to use updated packages.\n"
     ]
    },
    {
     "name": "stderr",
     "output_type": "stream",
     "text": [
      "\n",
      "[notice] A new release of pip is available: 24.0 -> 24.3.1\n",
      "[notice] To update, run: python.exe -m pip install --upgrade pip\n"
     ]
    }
   ],
   "source": [
    "pip install -U langchain"
   ]
  },
  {
   "cell_type": "code",
   "execution_count": 4,
   "id": "72f4e5eb-9910-491b-acaa-66bb1ace7d7d",
   "metadata": {},
   "outputs": [],
   "source": [
    "from langchain.document_loaders import TextLoader as tl"
   ]
  },
  {
   "cell_type": "code",
   "execution_count": 5,
   "id": "2f1888f7-16b4-45ac-9371-0c5c0a5c75d2",
   "metadata": {
    "scrolled": true
   },
   "outputs": [
    {
     "data": {
      "text/plain": [
       "[Document(metadata={'source': 'nvda_news_1.txt'}, page_content=\"The stock of NVIDIA Corp (NASDAQ:NVDA) experienced a daily loss of -3.56% and a 3-month gain of 32.35%. With an Earnings Per Share (EPS) (EPS) of $1.92, the question arises: is the stock significantly overvalued? This article aims to provide a detailed valuation analysis of NVIDIA, offering insights into its financial strength, profitability, growth, and more. We invite you to delve into this comprehensive analysis.\\n\\nCompany Overview\\nWarning! GuruFocus has detected 10 Warning Signs with NVDA. Click here to check it out.\\n\\nNVDA 30-Year Financial Data\\n\\nThe intrinsic value of NVDA\\n\\n\\nNVIDIA Corp (NASDAQ:NVDA) is a leading designer of discrete graphics processing units that enhance the experience on computing platforms. The firm's chips are widely used in various end markets, including PC gaming and data centers. In recent years, NVIDIA has broadened its focus from traditional PC graphics applications such as gaming to more complex and favorable opportunities, including artificial intelligence and autonomous driving, leveraging the high-performance capabilities of its products.\\n\\nCurrently, NVIDIA's stock price stands at $418.01, significantly higher than the GF Value of $310.28, indicating the stock might be overvalued. With a market cap of $1 trillion, the valuation seems steep. The following analysis aims to delve deeper into the company's value.\\n\\nIs NVIDIA's Stock Significantly Overvalued? A Comprehensive Valuation Analysis\\nIs NVIDIA's Stock Significantly Overvalued? A Comprehensive Valuation Analysis\\nUnderstanding the GF Value\\nThe GF Value is a unique measure of the intrinsic value of a stock, calculated based on historical trading multiples, a GuruFocus adjustment factor, and future business performance estimates. If the stock price is significantly above the GF Value Line, it is overvalued, and its future return is likely to be poor. Conversely, if it is significantly below the GF Value Line, its future return will likely be higher.\\n\\nAccording to GuruFocus Value calculation, NVIDIA (NASDAQ:NVDA) appears to be significantly overvalued. The stock's current price of $418.01 per share and the market cap of $1 trillion further strengthen this assumption.\\n\\nGiven that NVIDIA is significantly overvalued, the long-term return of its stock is likely to be much lower than its future business growth.\\n\\nIs NVIDIA's Stock Significantly Overvalued? A Comprehensive Valuation Analysis\\nIs NVIDIA's Stock Significantly Overvalued? A Comprehensive Valuation Analysis\\nLink: These companies may deliver higher future returns at reduced risk.\\n\\nFinancial Strength of NVIDIA\\nExamining the financial strength of a company is crucial before investing in its stock. Companies with poor financial strength pose a higher risk of permanent loss. NVIDIA's cash-to-debt ratio of 1.27 is worse than 58.04% of companies in the Semiconductors industry. However, NVIDIA's overall financial strength is 8 out of 10, indicating a strong financial position.\\n\\nIs NVIDIA's Stock Significantly Overvalued? A Comprehensive Valuation Analysis\\nIs NVIDIA's Stock Significantly Overvalued? A Comprehensive Valuation Analysis\\nProfitability and Growth\\nConsistent profitability over the long term reduces the risk for investors. NVIDIA, with its profitability ranking of 10 out of 10, has been profitable for the past 10 years. The company's operating margin of 17.37% ranks better than 76.5% of companies in the Semiconductors industry.\\n\\nHowever, growth is a crucial factor in a company's valuation. NVIDIA's growth ranks worse than 52.99% of companies in the Semiconductors industry, with its 3-year average revenue growth rate better than 87.88% of companies in the industry.\\n\\nROIC vs WACC\\nComparing a company's return on invested capital (ROIC) to its weighted average cost of capital (WACC) is an effective way to evaluate its profitability. Over the past 12 months, NVIDIA's ROIC was 20.32 while its WACC was 16.74, suggesting that the company is creating value for its shareholders.\\n\\nIs NVIDIA's Stock Significantly Overvalued? A Comprehensive Valuation Analysis\\nIs NVIDIA's Stock Significantly Overvalued? A Comprehensive Valuation Analysis\\nConclusion\\nIn conclusion, NVIDIA (NASDAQ:NVDA) appears to be significantly overvalued. Despite its strong financial condition and profitability, its growth ranks lower than 52.99% of companies in the Semiconductors industry. To learn more about NVIDIA stock, you can check out its 30-Year Financials here.\\n\\nTo find out the high quality companies that may deliver above-average returns, please check out GuruFocus High Quality Low Capex Screener.\\n\\nThis article first appeared on GuruFocus.\")]"
      ]
     },
     "execution_count": 5,
     "metadata": {},
     "output_type": "execute_result"
    }
   ],
   "source": [
    "l = tl(\"nvda_news_1.txt\")\n",
    "data = l.load()\n",
    "data"
   ]
  },
  {
   "cell_type": "code",
   "execution_count": 6,
   "id": "d1b173fa-f951-4863-bcc3-427ffd919422",
   "metadata": {
    "scrolled": true
   },
   "outputs": [
    {
     "data": {
      "text/plain": [
       "\"The stock of NVIDIA Corp (NASDAQ:NVDA) experienced a daily loss of -3.56% and a 3-month gain of 32.35%. With an Earnings Per Share (EPS) (EPS) of $1.92, the question arises: is the stock significantly overvalued? This article aims to provide a detailed valuation analysis of NVIDIA, offering insights into its financial strength, profitability, growth, and more. We invite you to delve into this comprehensive analysis.\\n\\nCompany Overview\\nWarning! GuruFocus has detected 10 Warning Signs with NVDA. Click here to check it out.\\n\\nNVDA 30-Year Financial Data\\n\\nThe intrinsic value of NVDA\\n\\n\\nNVIDIA Corp (NASDAQ:NVDA) is a leading designer of discrete graphics processing units that enhance the experience on computing platforms. The firm's chips are widely used in various end markets, including PC gaming and data centers. In recent years, NVIDIA has broadened its focus from traditional PC graphics applications such as gaming to more complex and favorable opportunities, including artificial intelligence and autonomous driving, leveraging the high-performance capabilities of its products.\\n\\nCurrently, NVIDIA's stock price stands at $418.01, significantly higher than the GF Value of $310.28, indicating the stock might be overvalued. With a market cap of $1 trillion, the valuation seems steep. The following analysis aims to delve deeper into the company's value.\\n\\nIs NVIDIA's Stock Significantly Overvalued? A Comprehensive Valuation Analysis\\nIs NVIDIA's Stock Significantly Overvalued? A Comprehensive Valuation Analysis\\nUnderstanding the GF Value\\nThe GF Value is a unique measure of the intrinsic value of a stock, calculated based on historical trading multiples, a GuruFocus adjustment factor, and future business performance estimates. If the stock price is significantly above the GF Value Line, it is overvalued, and its future return is likely to be poor. Conversely, if it is significantly below the GF Value Line, its future return will likely be higher.\\n\\nAccording to GuruFocus Value calculation, NVIDIA (NASDAQ:NVDA) appears to be significantly overvalued. The stock's current price of $418.01 per share and the market cap of $1 trillion further strengthen this assumption.\\n\\nGiven that NVIDIA is significantly overvalued, the long-term return of its stock is likely to be much lower than its future business growth.\\n\\nIs NVIDIA's Stock Significantly Overvalued? A Comprehensive Valuation Analysis\\nIs NVIDIA's Stock Significantly Overvalued? A Comprehensive Valuation Analysis\\nLink: These companies may deliver higher future returns at reduced risk.\\n\\nFinancial Strength of NVIDIA\\nExamining the financial strength of a company is crucial before investing in its stock. Companies with poor financial strength pose a higher risk of permanent loss. NVIDIA's cash-to-debt ratio of 1.27 is worse than 58.04% of companies in the Semiconductors industry. However, NVIDIA's overall financial strength is 8 out of 10, indicating a strong financial position.\\n\\nIs NVIDIA's Stock Significantly Overvalued? A Comprehensive Valuation Analysis\\nIs NVIDIA's Stock Significantly Overvalued? A Comprehensive Valuation Analysis\\nProfitability and Growth\\nConsistent profitability over the long term reduces the risk for investors. NVIDIA, with its profitability ranking of 10 out of 10, has been profitable for the past 10 years. The company's operating margin of 17.37% ranks better than 76.5% of companies in the Semiconductors industry.\\n\\nHowever, growth is a crucial factor in a company's valuation. NVIDIA's growth ranks worse than 52.99% of companies in the Semiconductors industry, with its 3-year average revenue growth rate better than 87.88% of companies in the industry.\\n\\nROIC vs WACC\\nComparing a company's return on invested capital (ROIC) to its weighted average cost of capital (WACC) is an effective way to evaluate its profitability. Over the past 12 months, NVIDIA's ROIC was 20.32 while its WACC was 16.74, suggesting that the company is creating value for its shareholders.\\n\\nIs NVIDIA's Stock Significantly Overvalued? A Comprehensive Valuation Analysis\\nIs NVIDIA's Stock Significantly Overvalued? A Comprehensive Valuation Analysis\\nConclusion\\nIn conclusion, NVIDIA (NASDAQ:NVDA) appears to be significantly overvalued. Despite its strong financial condition and profitability, its growth ranks lower than 52.99% of companies in the Semiconductors industry. To learn more about NVIDIA stock, you can check out its 30-Year Financials here.\\n\\nTo find out the high quality companies that may deliver above-average returns, please check out GuruFocus High Quality Low Capex Screener.\\n\\nThis article first appeared on GuruFocus.\""
      ]
     },
     "execution_count": 6,
     "metadata": {},
     "output_type": "execute_result"
    }
   ],
   "source": [
    "data[0].page_content"
   ]
  },
  {
   "cell_type": "code",
   "execution_count": 7,
   "id": "4200f162-d74e-466d-9502-615dda3a60f0",
   "metadata": {},
   "outputs": [
    {
     "data": {
      "text/plain": [
       "{'source': 'nvda_news_1.txt'}"
      ]
     },
     "execution_count": 7,
     "metadata": {},
     "output_type": "execute_result"
    }
   ],
   "source": [
    "data[0].metadata"
   ]
  },
  {
   "cell_type": "code",
   "execution_count": 8,
   "id": "33db0279-8f9b-495f-841e-3842d97c5a45",
   "metadata": {},
   "outputs": [
    {
     "data": {
      "text/plain": [
       "[Document(metadata={'source': 'movies.csv', 'row': 0}, page_content='movie_id: 101\\ntitle: K.G.F: Chapter 2\\nindustry: Bollywood\\nrelease_year: 2022\\nimdb_rating: 8.4\\nstudio: Hombale Films\\nlanguage_id: 3\\nbudget: 1\\nrevenue: 12.5\\nunit: Billions\\ncurrency: INR'),\n",
       " Document(metadata={'source': 'movies.csv', 'row': 1}, page_content='movie_id: 102\\ntitle: Doctor Strange in the Multiverse of Madness\\nindustry: Hollywood\\nrelease_year: 2022\\nimdb_rating: 7\\nstudio: Marvel Studios\\nlanguage_id: 5\\nbudget: 200\\nrevenue: 954.8\\nunit: Millions\\ncurrency: USD'),\n",
       " Document(metadata={'source': 'movies.csv', 'row': 2}, page_content='movie_id: 103\\ntitle: Thor: The Dark World\\nindustry: Hollywood\\nrelease_year: 2013\\nimdb_rating: 6.8\\nstudio: Marvel Studios\\nlanguage_id: 5\\nbudget: 165\\nrevenue: 644.8\\nunit: Millions\\ncurrency: USD'),\n",
       " Document(metadata={'source': 'movies.csv', 'row': 3}, page_content='movie_id: 104\\ntitle: Thor: Ragnarok\\nindustry: Hollywood\\nrelease_year: 2017\\nimdb_rating: 7.9\\nstudio: Marvel Studios\\nlanguage_id: 5\\nbudget: 180\\nrevenue: 854\\nunit: Millions\\ncurrency: USD'),\n",
       " Document(metadata={'source': 'movies.csv', 'row': 4}, page_content='movie_id: 105\\ntitle: Thor: Love and Thunder\\nindustry: Hollywood\\nrelease_year: 2022\\nimdb_rating: 6.8\\nstudio: Marvel Studios\\nlanguage_id: 5\\nbudget: 250\\nrevenue: 670\\nunit: Millions\\ncurrency: USD'),\n",
       " Document(metadata={'source': 'movies.csv', 'row': 5}, page_content='movie_id: 106\\ntitle: Sholay\\nindustry: Bollywood\\nrelease_year: 1975\\nimdb_rating: 8.1\\nstudio: United Producers\\nlanguage_id: 1\\nbudget: Not Available\\nrevenue: Not Available\\nunit: Not Available\\ncurrency: Not Available'),\n",
       " Document(metadata={'source': 'movies.csv', 'row': 6}, page_content='movie_id: 107\\ntitle: Dilwale Dulhania Le Jayenge\\nindustry: Bollywood\\nrelease_year: 1995\\nimdb_rating: 8\\nstudio: Yash Raj Films\\nlanguage_id: 1\\nbudget: 400\\nrevenue: 2000\\nunit: Millions\\ncurrency: INR'),\n",
       " Document(metadata={'source': 'movies.csv', 'row': 7}, page_content='movie_id: 108\\ntitle: 3 Idiots\\nindustry: Bollywood\\nrelease_year: 2009\\nimdb_rating: 8.4\\nstudio: Vinod Chopra Films\\nlanguage_id: 1\\nbudget: 550\\nrevenue: 4000\\nunit: Millions\\ncurrency: INR'),\n",
       " Document(metadata={'source': 'movies.csv', 'row': 8}, page_content='movie_id: 109\\ntitle: Kabhi Khushi Kabhie Gham\\nindustry: Bollywood\\nrelease_year: 2001\\nimdb_rating: 7.4\\nstudio: Dharma Productions\\nlanguage_id: 1\\nbudget: 390\\nrevenue: 1360\\nunit: Millions\\ncurrency: INR')]"
      ]
     },
     "execution_count": 8,
     "metadata": {},
     "output_type": "execute_result"
    }
   ],
   "source": [
    "from langchain.document_loaders.csv_loader import CSVLoader as csv\n",
    "\n",
    "loader = csv(\"movies.csv\")\n",
    "data = loader.load()\n",
    "data"
   ]
  },
  {
   "cell_type": "code",
   "execution_count": 9,
   "id": "58b57b32-b95f-42a4-b8ab-60a2cbb057e7",
   "metadata": {},
   "outputs": [
    {
     "data": {
      "text/plain": [
       "9"
      ]
     },
     "execution_count": 9,
     "metadata": {},
     "output_type": "execute_result"
    }
   ],
   "source": [
    "len(data)"
   ]
  },
  {
   "cell_type": "code",
   "execution_count": 10,
   "id": "d3abdd40-7d6c-4b96-9b64-8f81e4b1ff3e",
   "metadata": {},
   "outputs": [
    {
     "data": {
      "text/plain": [
       "langchain_core.documents.base.Document"
      ]
     },
     "execution_count": 10,
     "metadata": {},
     "output_type": "execute_result"
    }
   ],
   "source": [
    "type(data[0])"
   ]
  },
  {
   "cell_type": "code",
   "execution_count": 11,
   "id": "7db20c56-4e22-457b-b947-f9fb7b77be58",
   "metadata": {},
   "outputs": [
    {
     "data": {
      "text/plain": [
       "'movie_id: 101\\ntitle: K.G.F: Chapter 2\\nindustry: Bollywood\\nrelease_year: 2022\\nimdb_rating: 8.4\\nstudio: Hombale Films\\nlanguage_id: 3\\nbudget: 1\\nrevenue: 12.5\\nunit: Billions\\ncurrency: INR'"
      ]
     },
     "execution_count": 11,
     "metadata": {},
     "output_type": "execute_result"
    }
   ],
   "source": [
    "data[0].page_content"
   ]
  },
  {
   "cell_type": "code",
   "execution_count": 12,
   "id": "43de22bc-6382-49b2-8a4b-e246f99f9110",
   "metadata": {},
   "outputs": [
    {
     "data": {
      "text/plain": [
       "{'source': 'movies.csv', 'row': 0}"
      ]
     },
     "execution_count": 12,
     "metadata": {},
     "output_type": "execute_result"
    }
   ],
   "source": [
    "data[0].metadata"
   ]
  },
  {
   "cell_type": "code",
   "execution_count": 13,
   "id": "1e212456-b1fd-4570-a421-4c553ff6f10d",
   "metadata": {},
   "outputs": [
    {
     "name": "stdout",
     "output_type": "stream",
     "text": [
      "Requirement already satisfied: unstructured in c:\\users\\sachi\\appdata\\local\\programs\\python\\python311\\lib\\site-packages (0.16.8)\n",
      "Requirement already satisfied: libmagic in c:\\users\\sachi\\appdata\\local\\programs\\python\\python311\\lib\\site-packages (1.0)\n",
      "Requirement already satisfied: python-magic in c:\\users\\sachi\\appdata\\local\\programs\\python\\python311\\lib\\site-packages (0.4.27)\n",
      "Requirement already satisfied: python-magic-bin in c:\\users\\sachi\\appdata\\local\\programs\\python\\python311\\lib\\site-packages (0.4.14)\n",
      "Requirement already satisfied: chardet in c:\\users\\sachi\\appdata\\local\\programs\\python\\python311\\lib\\site-packages (from unstructured) (5.2.0)\n",
      "Requirement already satisfied: filetype in c:\\users\\sachi\\appdata\\local\\programs\\python\\python311\\lib\\site-packages (from unstructured) (1.2.0)\n",
      "Requirement already satisfied: lxml in c:\\users\\sachi\\appdata\\local\\programs\\python\\python311\\lib\\site-packages (from unstructured) (5.2.1)\n",
      "Requirement already satisfied: nltk in c:\\users\\sachi\\appdata\\local\\programs\\python\\python311\\lib\\site-packages (from unstructured) (3.9.1)\n",
      "Requirement already satisfied: requests in c:\\users\\sachi\\appdata\\local\\programs\\python\\python311\\lib\\site-packages (from unstructured) (2.32.3)\n",
      "Requirement already satisfied: beautifulsoup4 in c:\\users\\sachi\\appdata\\local\\programs\\python\\python311\\lib\\site-packages (from unstructured) (4.12.2)\n",
      "Requirement already satisfied: emoji in c:\\users\\sachi\\appdata\\local\\programs\\python\\python311\\lib\\site-packages (from unstructured) (2.14.0)\n",
      "Requirement already satisfied: dataclasses-json in c:\\users\\sachi\\appdata\\local\\programs\\python\\python311\\lib\\site-packages (from unstructured) (0.6.7)\n",
      "Requirement already satisfied: python-iso639 in c:\\users\\sachi\\appdata\\local\\programs\\python\\python311\\lib\\site-packages (from unstructured) (2024.10.22)\n",
      "Requirement already satisfied: langdetect in c:\\users\\sachi\\appdata\\local\\programs\\python\\python311\\lib\\site-packages (from unstructured) (1.0.9)\n",
      "Requirement already satisfied: numpy<2 in c:\\users\\sachi\\appdata\\local\\programs\\python\\python311\\lib\\site-packages (from unstructured) (1.25.0)\n",
      "Requirement already satisfied: rapidfuzz in c:\\users\\sachi\\appdata\\local\\programs\\python\\python311\\lib\\site-packages (from unstructured) (3.10.1)\n",
      "Requirement already satisfied: backoff in c:\\users\\sachi\\appdata\\local\\programs\\python\\python311\\lib\\site-packages (from unstructured) (2.2.1)\n",
      "Requirement already satisfied: typing-extensions in c:\\users\\sachi\\appdata\\local\\programs\\python\\python311\\lib\\site-packages (from unstructured) (4.12.2)\n",
      "Requirement already satisfied: unstructured-client in c:\\users\\sachi\\appdata\\local\\programs\\python\\python311\\lib\\site-packages (from unstructured) (0.28.1)\n",
      "Requirement already satisfied: wrapt in c:\\users\\sachi\\appdata\\local\\programs\\python\\python311\\lib\\site-packages (from unstructured) (1.16.0)\n",
      "Requirement already satisfied: tqdm in c:\\users\\sachi\\appdata\\local\\programs\\python\\python311\\lib\\site-packages (from unstructured) (4.66.5)\n",
      "Requirement already satisfied: psutil in c:\\users\\sachi\\appdata\\local\\programs\\python\\python311\\lib\\site-packages (from unstructured) (5.9.5)\n",
      "Requirement already satisfied: python-oxmsg in c:\\users\\sachi\\appdata\\local\\programs\\python\\python311\\lib\\site-packages (from unstructured) (0.0.1)\n",
      "Requirement already satisfied: html5lib in c:\\users\\sachi\\appdata\\local\\programs\\python\\python311\\lib\\site-packages (from unstructured) (1.1)\n",
      "Requirement already satisfied: soupsieve>1.2 in c:\\users\\sachi\\appdata\\local\\programs\\python\\python311\\lib\\site-packages (from beautifulsoup4->unstructured) (2.5)\n",
      "Requirement already satisfied: marshmallow<4.0.0,>=3.18.0 in c:\\users\\sachi\\appdata\\local\\programs\\python\\python311\\lib\\site-packages (from dataclasses-json->unstructured) (3.23.1)\n",
      "Requirement already satisfied: typing-inspect<1,>=0.4.0 in c:\\users\\sachi\\appdata\\local\\programs\\python\\python311\\lib\\site-packages (from dataclasses-json->unstructured) (0.9.0)\n",
      "Requirement already satisfied: six>=1.9 in c:\\users\\sachi\\appdata\\local\\programs\\python\\python311\\lib\\site-packages (from html5lib->unstructured) (1.16.0)\n",
      "Requirement already satisfied: webencodings in c:\\users\\sachi\\appdata\\local\\programs\\python\\python311\\lib\\site-packages (from html5lib->unstructured) (0.5.1)\n",
      "Requirement already satisfied: click in c:\\users\\sachi\\appdata\\local\\programs\\python\\python311\\lib\\site-packages (from nltk->unstructured) (8.1.7)\n",
      "Requirement already satisfied: joblib in c:\\users\\sachi\\appdata\\local\\programs\\python\\python311\\lib\\site-packages (from nltk->unstructured) (1.3.2)\n",
      "Requirement already satisfied: regex>=2021.8.3 in c:\\users\\sachi\\appdata\\local\\programs\\python\\python311\\lib\\site-packages (from nltk->unstructured) (2024.7.24)\n",
      "Requirement already satisfied: olefile in c:\\users\\sachi\\appdata\\local\\programs\\python\\python311\\lib\\site-packages (from python-oxmsg->unstructured) (0.47)\n",
      "Requirement already satisfied: charset-normalizer<4,>=2 in c:\\users\\sachi\\appdata\\local\\programs\\python\\python311\\lib\\site-packages (from requests->unstructured) (3.2.0)\n",
      "Requirement already satisfied: idna<4,>=2.5 in c:\\users\\sachi\\appdata\\local\\programs\\python\\python311\\lib\\site-packages (from requests->unstructured) (3.4)\n",
      "Requirement already satisfied: urllib3<3,>=1.21.1 in c:\\users\\sachi\\appdata\\local\\programs\\python\\python311\\lib\\site-packages (from requests->unstructured) (2.0.5)\n",
      "Requirement already satisfied: certifi>=2017.4.17 in c:\\users\\sachi\\appdata\\local\\programs\\python\\python311\\lib\\site-packages (from requests->unstructured) (2023.7.22)\n",
      "Requirement already satisfied: colorama in c:\\users\\sachi\\appdata\\local\\programs\\python\\python311\\lib\\site-packages (from tqdm->unstructured) (0.4.6)\n",
      "Requirement already satisfied: aiofiles>=24.1.0 in c:\\users\\sachi\\appdata\\local\\programs\\python\\python311\\lib\\site-packages (from unstructured-client->unstructured) (24.1.0)\n",
      "Requirement already satisfied: cryptography>=3.1 in c:\\users\\sachi\\appdata\\local\\programs\\python\\python311\\lib\\site-packages (from unstructured-client->unstructured) (44.0.0)\n",
      "Requirement already satisfied: eval-type-backport<0.3.0,>=0.2.0 in c:\\users\\sachi\\appdata\\local\\programs\\python\\python311\\lib\\site-packages (from unstructured-client->unstructured) (0.2.0)\n",
      "Requirement already satisfied: httpx>=0.27.0 in c:\\users\\sachi\\appdata\\local\\programs\\python\\python311\\lib\\site-packages (from unstructured-client->unstructured) (0.28.0)\n",
      "Requirement already satisfied: jsonpath-python<2.0.0,>=1.0.6 in c:\\users\\sachi\\appdata\\local\\programs\\python\\python311\\lib\\site-packages (from unstructured-client->unstructured) (1.0.6)\n",
      "Requirement already satisfied: nest-asyncio>=1.6.0 in c:\\users\\sachi\\appdata\\local\\programs\\python\\python311\\lib\\site-packages (from unstructured-client->unstructured) (1.6.0)\n",
      "Requirement already satisfied: pydantic<2.10.0,>=2.9.2 in c:\\users\\sachi\\appdata\\local\\programs\\python\\python311\\lib\\site-packages (from unstructured-client->unstructured) (2.9.2)\n",
      "Requirement already satisfied: pypdf>=4.0 in c:\\users\\sachi\\appdata\\local\\programs\\python\\python311\\lib\\site-packages (from unstructured-client->unstructured) (5.1.0)\n",
      "Requirement already satisfied: python-dateutil<3.0.0,>=2.8.2 in c:\\users\\sachi\\appdata\\local\\programs\\python\\python311\\lib\\site-packages (from unstructured-client->unstructured) (2.8.2)\n",
      "Requirement already satisfied: requests-toolbelt>=1.0.0 in c:\\users\\sachi\\appdata\\local\\programs\\python\\python311\\lib\\site-packages (from unstructured-client->unstructured) (1.0.0)\n",
      "Requirement already satisfied: cffi>=1.12 in c:\\users\\sachi\\appdata\\local\\programs\\python\\python311\\lib\\site-packages (from cryptography>=3.1->unstructured-client->unstructured) (1.15.1)\n",
      "Requirement already satisfied: anyio in c:\\users\\sachi\\appdata\\local\\programs\\python\\python311\\lib\\site-packages (from httpx>=0.27.0->unstructured-client->unstructured) (4.0.0)\n",
      "Requirement already satisfied: httpcore==1.* in c:\\users\\sachi\\appdata\\local\\programs\\python\\python311\\lib\\site-packages (from httpx>=0.27.0->unstructured-client->unstructured) (1.0.7)\n",
      "Requirement already satisfied: h11<0.15,>=0.13 in c:\\users\\sachi\\appdata\\local\\programs\\python\\python311\\lib\\site-packages (from httpcore==1.*->httpx>=0.27.0->unstructured-client->unstructured) (0.14.0)\n",
      "Requirement already satisfied: packaging>=17.0 in c:\\users\\sachi\\appdata\\local\\programs\\python\\python311\\lib\\site-packages (from marshmallow<4.0.0,>=3.18.0->dataclasses-json->unstructured) (24.2)\n",
      "Requirement already satisfied: annotated-types>=0.6.0 in c:\\users\\sachi\\appdata\\local\\programs\\python\\python311\\lib\\site-packages (from pydantic<2.10.0,>=2.9.2->unstructured-client->unstructured) (0.7.0)\n",
      "Requirement already satisfied: pydantic-core==2.23.4 in c:\\users\\sachi\\appdata\\local\\programs\\python\\python311\\lib\\site-packages (from pydantic<2.10.0,>=2.9.2->unstructured-client->unstructured) (2.23.4)\n",
      "Requirement already satisfied: mypy-extensions>=0.3.0 in c:\\users\\sachi\\appdata\\local\\programs\\python\\python311\\lib\\site-packages (from typing-inspect<1,>=0.4.0->dataclasses-json->unstructured) (1.0.0)\n",
      "Requirement already satisfied: pycparser in c:\\users\\sachi\\appdata\\local\\programs\\python\\python311\\lib\\site-packages (from cffi>=1.12->cryptography>=3.1->unstructured-client->unstructured) (2.21)\n",
      "Requirement already satisfied: sniffio>=1.1 in c:\\users\\sachi\\appdata\\local\\programs\\python\\python311\\lib\\site-packages (from anyio->httpx>=0.27.0->unstructured-client->unstructured) (1.3.0)\n"
     ]
    },
    {
     "name": "stderr",
     "output_type": "stream",
     "text": [
      "\n",
      "[notice] A new release of pip is available: 24.0 -> 24.3.1\n",
      "[notice] To update, run: python.exe -m pip install --upgrade pip\n"
     ]
    }
   ],
   "source": [
    "!pip install unstructured libmagic python-magic python-magic-bin"
   ]
  },
  {
   "cell_type": "code",
   "execution_count": 14,
   "id": "2965a888-72af-4f9f-830c-e79008bc16a0",
   "metadata": {},
   "outputs": [],
   "source": [
    "from langchain.document_loaders import UnstructuredURLLoader as url"
   ]
  },
  {
   "cell_type": "code",
   "execution_count": 15,
   "id": "533b99d5-a832-4ef9-87a7-8ffdc8ed3c49",
   "metadata": {},
   "outputs": [],
   "source": [
    "loader = url(urls=[\n",
    "    \"https://www.moneycontrol.com/news/business/banks/hdfc-bank-re-appoints-sanmoy-chakrabarti-as-chief-risk-officer-11259771.html\",\n",
    "    \"https://www.moneycontrol.com/news/business/markets/market-corrects-post-rbi-ups-inflation-forecast-icrr-bet-on-these-top-10-rate-sensitive-stocks-ideas-11142611.html\"\n",
    "])    "
   ]
  },
  {
   "cell_type": "code",
   "execution_count": 16,
   "id": "1401a164-7677-4c36-8578-3fe9c04fc1ba",
   "metadata": {},
   "outputs": [
    {
     "data": {
      "text/plain": [
       "[Document(metadata={'source': 'https://www.moneycontrol.com/news/business/banks/hdfc-bank-re-appoints-sanmoy-chakrabarti-as-chief-risk-officer-11259771.html'}, page_content='English\\n\\nHindi\\n\\nGujarati\\n\\nSpecials\\n\\nHello, Login\\n\\nHello, Login\\n\\nLog-inor Sign-Up\\n\\nMy Account\\n\\nMy Profile\\n\\nMy Portfolio\\n\\nMy Watchlist\\n\\nMy Alerts\\n\\nMy Messages\\n\\nPrice Alerts\\n\\nMy Profile\\n\\nMy PRO\\n\\nMy Portfolio\\n\\nMy Watchlist\\n\\nMy Alerts\\n\\nMy Messages\\n\\nPrice Alerts\\n\\nLogout\\n\\nLoans up to ₹15 LAKHS\\n\\nFixed Deposits\\n\\nCredit CardsLifetime Free\\n\\nCredit Score\\n\\nChat with Us\\n\\nDownload App\\n\\nFollow us on:\\n\\nGo Ad-Free\\n\\nMy Alerts\\n\\n>->MC_ENG_DESKTOP/MC_ENG_NEWS/MC_ENG_BUSINESS_AS/MC_ENG_ROS_NWS_BUS_AS_ATF_728\\n\\nGo PRO @₹99 PRO\\n\\nAdvertisement\\n\\nRemove Ad\\n\\nBusiness\\n\\nMarkets\\n\\nStocks\\n\\nEconomy\\n\\nCompanies\\n\\nTrends\\n\\nIPO\\n\\nOpinion\\n\\nEV Special\\n\\nHomeNewsBusinessBanksHDFC Bank re-appoints Sanmoy Chakrabarti as Chief Risk Officer\\n\\nTrending Topics\\n\\nIndia Q2 GDP Data LiveFiscal Deficit India GDPIndian RupeeAster DM Merger\\n\\nHDFC Bank re-appoints Sanmoy Chakrabarti as Chief Risk Officer\\n\\nChakrabarti has been appointed for a period of five years from December 14, 2023 to December 13, 2028.\\n\\nMoneycontrol News\\n\\nAugust 25, 2023 / 18:54 IST\\n\\nHDFC Bank\\n\\nWatchlist\\n\\nPortfolio\\n\\nMessage\\n\\nSet Alert\\n\\nlive\\n\\nbselive\\n\\nnselive\\n\\nVolume\\n\\nTodays L/H\\n\\nMore\\n\\nHDFC Bank, the country\\'s largest private sector lender, said on August 25 that its board approved the re-appointment of Sanmoy Chakrabarti as the Chief Risk Officer (CRO).\\n\\nAccording to the bank\\'s filing to the stock exchanges, Chakrabarti has been re-appointed for a period of five years.\\n\\nStory continues below Advertisement\\n\\nRemove Ad\\n\\n\"He will be the chief risk officer of the bank for a period of five years from December 14, 2023 to December 13, 2028,\" HDFC Bank said.\\n\\nChakrabarti, as the CRO of the bank, is responsible for determining the comprehensive risk appetite (covering Credit Risk, Market Risk, Operational Risk, Liquidity Risk, etc.) across various banking segments.\\n\\nAdditionally, he \"oversees the Enterprise Risk Management framework in the Bank and guides the formulations of policies and procedures for Internal Capital Adequacy Assessment Process, Stress Testing methodology, and Group Risk Management. He is also responsible for identifying and managing any emerging risk having material impact on Bank’s activities,\" according to the filing.\\n\\nChakrabarti, who holds M.S. in Quantitative Economics from the Indian Statistical Institute, is a member of the Indian Banks’ Association (IBA) Standing Committee on Risk Management and Basel Implementation, the filing added.\\n\\nMoneycontrol News\\n\\nTags: #CRO #HDFC #private banks\\n\\nfirst published: Aug 25, 2023 06:54 pm\\n\\nDiscover the latest business news, Sensex, and Nifty updates. Obtain Personal Finance insights, tax queries, and expert opinions on Moneycontrol or download the Moneycontrol App to stay updated!\\n\\nAdvertisement\\n\\nRemove Ad\\n\\nAdvertisement\\n\\nRemove Ad\\n\\nAdvertisement\\n\\nRemove Ad\\n\\nAdvertisement\\n\\nRemove Ad\\n\\nAdvertisement\\n\\nRemove Ad\\n\\nAdvertisement\\n\\nRemove Ad\\n\\nAdvisory Alert:\\n\\nForum Facebook Twitter Instagram Linkedin RSS\\n\\nPortfolio\\n\\nMarkets\\n\\nLoans up to ₹15 LAKHS\\n\\nWatchlist\\n\\nLive TV Show\\n\\nCurrencies\\n\\nCredit CardsLifetime Free\\n\\nCredit Score\\n\\nFinance Tracker\\n\\nCommodities\\n\\nFixed Deposits\\n\\nFixed Income\\n\\nPersonal Finance\\n\\nMutual Fund\\n\\nPre-Market\\n\\nIPO\\n\\nGlobal Market\\n\\nBudget 2024\\n\\nElections 2024\\n\\nGold Rate\\n\\nBSE Sensex\\n\\nForum\\n\\nMC 30\\n\\nNews\\n\\nBusiness\\n\\nMarkets\\n\\nStocks\\n\\nIncome Tax Calculator\\n\\nElection Schedule 2024\\n\\nIndia News\\n\\nEconomy\\n\\nMutual Funds\\n\\nPersonal Finance\\n\\nIPO News\\n\\nStartups\\n\\nStocks: A | B | C | D | E | F | G | H | I | J | K | L | M | N | O | P | Q | R | S | T | U | V | W | X | Y | Z | Others\\n\\nMutual Funds: A | B | C | D | E | F | G | H | I | J | K | L | M | N | O | P | Q | R | S | T | U | V | W | X | Y | Z\\n\\nVisit the App Store to see all our apps:\\n\\nDownload from Google PlayDownload from APP StoreDownload from Windows Phone\\n\\nTools\\n\\nRetirement Planning\\n\\nEMI Calculator\\n\\nSIP Calculator\\n\\nSIP Planner\\n\\nUseful Links\\n\\nCrypto News\\n\\nBank Holidays in India\\n\\nGold Rate Today\\n\\nSilver Rate Today\\n\\nTrending News\\n\\nStartups\\n\\nNational News\\n\\nMC Videos\\n\\nMC You Tube\\n\\nHouse Purchase Index\\n\\nBest Portfolio Manager\\n\\nSmall Savings Schemes\\n\\nBonds\\n\\nTopperLearning\\n\\nClear Study Doubts\\n\\nEducation Franchisee Opportunity\\n\\nSpecials\\n\\nMaster Your Money\\n\\nGame Changers\\n\\nInvestment Watch\\n\\nPowerYourTrade\\n\\nFocus\\n\\nSME Step Up\\n\\nNetwork 18 Sites\\n\\nNews18\\n\\nFirstpost\\n\\nCNBC TV18\\n\\nNews18 Hindi\\n\\nCricketnext\\n\\nOverdrive\\n\\nTopper Learning\\n\\nAbout us | Contact Us | Advisory Alert | Advertise with Us | Support | Disclaimer | Privacy Policy | Cookie Policy | Terms & Conditions | Careers | Financial Terms (Glossary) | FAQs | Sitemap | RSS Feed | Investors\\n\\nCopyright © Network18 Media & Investments Limited. All rights reserved. Reproduction of news articles, photos, videos or any other content in whole or in part in any form or medium without express writtern permission of moneycontrol.com is prohibited.\\n\\nYou got 30 Day’s Trial of\\n\\nGrab it Now\\n\\nAd-Free Experience\\n\\nTop Articles from Financial Times\\n\\nActionable Insights\\n\\nMC Research\\n\\nEconomic Calendar\\n\\n& Many More\\n\\nYou are already a Moneycontrol Pro user.\\n\\nM Snehanjali'),\n",
       " Document(metadata={'source': 'https://www.moneycontrol.com/news/business/markets/market-corrects-post-rbi-ups-inflation-forecast-icrr-bet-on-these-top-10-rate-sensitive-stocks-ideas-11142611.html'}, page_content='English\\n\\nHindi\\n\\nGujarati\\n\\nSpecials\\n\\nHello, Login\\n\\nHello, Login\\n\\nLog-inor Sign-Up\\n\\nMy Account\\n\\nMy Profile\\n\\nMy Portfolio\\n\\nMy Watchlist\\n\\nMy Alerts\\n\\nMy Messages\\n\\nPrice Alerts\\n\\nMy Profile\\n\\nMy PRO\\n\\nMy Portfolio\\n\\nMy Watchlist\\n\\nMy Alerts\\n\\nMy Messages\\n\\nPrice Alerts\\n\\nLogout\\n\\nLoans up to ₹15 LAKHS\\n\\nFixed Deposits\\n\\nCredit CardsLifetime Free\\n\\nCredit Score\\n\\nChat with Us\\n\\nDownload App\\n\\nFollow us on:\\n\\nGo Ad-Free\\n\\nMy Alerts\\n\\n>->MC_ENG_DESKTOP/MC_ENG_NEWS/MC_ENG_MARKETS_AS/MC_ENG_ROS_NWS_MKTS_AS_ATF_728\\n\\nGo PRO @₹99 PRO\\n\\nAdvertisement\\n\\nRemove Ad\\n\\nBusiness\\n\\nMarkets\\n\\nStocks\\n\\nEconomy\\n\\nCompanies\\n\\nTrends\\n\\nIPO\\n\\nOpinion\\n\\nEV Special\\n\\nHomeNewsBusinessMarketsMarket corrects post RBI MPC outcome Bet on these top 10 rate-sensitive stocks\\n\\nTrending Topics\\n\\nF&O TradingEnviro Infra Stock PriceWhy Market Up Today Honasa Consumer Share PriceZee Entertainment Share PriceEasy Trip Share Price\\n\\nMarket corrects post RBI MPC outcome| Bet on these top 10 rate-sensitive stocks\\n\\nExperts are not worried due to this market fall, in fact, it gives an opportunity to pick quality stocks including rate sensitive stocks on dips.\\n\\nSunil Shankar Matkar\\n\\nAugust 10, 2023 / 13:45 IST\\n\\nRBI holds repo rate at 6.5 percent, raises full year inflation forecast\\n\\nWatchlist\\n\\nPortfolio\\n\\nMessage\\n\\nSet Alert\\n\\nlive\\n\\nbselive\\n\\nnselive\\n\\nVolume\\n\\nTodays L/H\\n\\nMore\\n\\nThe Monetary Policy Committee (MPC) unanimously decided to hold the repo rate at 6.5 percent, but raised the full-year inflation forecast to 5.4 percent from 5.1 percent earlier given the supply disruptions due to adverse weather conditions and assuming a normal monsoon, which was largely on expected lines.\\n\\n\"The MPC also decided to remain focused on withdrawal of accommodation to ensure that inflation progressively aligns with the target, while supporting growth,\" the Reserve Bank of India said in its release.\\n\\nStory continues below Advertisement\\n\\nRemove Ad\\n\\nThe MPC has also maintained its real GDP growth forecast for current financial year 2023-24 at 6.5 percent considering the hope for better household consumption, and renewal of the capex cycle going ahead, amid global headwinds.\\n\\n\"There were no surprises in the policy and unlike market expectations, there was no hawkish bend to the commentary,\" Indranil Pan, Chief Economist at YES Bank said.\\n\\nHowever, he further said as any good central bank would do, the RBI signals that it would continue to look ahead and factor in its anticipated inflation trajectory into future monetary policy decisions, and opined that excessive liquidity can pose risks to price stability.\\n\\nRelated stories\\n\\nChartist Talks: Sudeep Shah of SBI Securities explains why he is bullish on these 5 stocks\\n\\nDaily Voice: GDP growth at 7% for FY25 ambitious considering global headwinds, moderating domestic d...\\n\\nMore than 100 smallcaps give double-digit return as broader indices outperform\\n\\nMeanwhile, the RBI has attempted to neutralize the liquidity impact of the Rs 2000/- notes into the banking system, and has hiked incremental CRR (cash reserve ratio) to 10 percent till September 2023 to address surplus liquidity generated by various factors.\\n\\nThe market has reacted negatively to the rising inflation forecast and incremental CRR for banks announced by the RBI. Hence the Bank Nifty fell 240 points to 44,640, while the BSE Sensex fell 246 points to 65,750, and the Nifty50 dropped 69 points to 19,564, at 12:49 hours IST.\\n\\nBut experts are not worried due to this fall, in fact, it gives an opportunity to pick quality stocks including rate sensitive stocks on dips. They still feel the market is in a consolidation phase and can give decisive breakout over crucial 19,650-19,700 levels soon, as long as it holds the 19,500-19,300 support. Overall it traded within the previous day\\'s range.\\n\\nStory continues below Advertisement\\n\\nRemove Ad\\n\\n\"We believe that a dip in the market is a much needed. The RBI move may pave the way for healthy correction. If Bank Nifty fails to hold above the 44,500 mark then there is a chance of a fall till 43,500. This is a major support level for Bank Nifty where investors can get it to good quality banking stocks,\" Apurva Sheth, head of market perspectives & research at SAMCO Securities said.\\n\\nOn the Nifty50, Osho Krishan, senior. analyst, technical & derivative research at Angel One feels the bearish gap of 19,678-19,705 withholds the immediate hurdle and a decisive breach would attract new longs in the index for the next potential resistance around 19,800-19,850 in the comparable period. While on the downside, the pivotal support of 19,500 proved its mettle and is expected to cushion any blip in the shortcoming, he said.\\n\\nFollow LIVE Updates of the RBI Monetary Policy decision here\\n\\nWe have collated a list of rate-sensitive stocks that may be a good buy at current levels or on dips from a two to three weeks’ perspective. Returns are calculated based on August 9 closing price:\\n\\nExpert: Foram Chheda, CMT, technical research analyst and founder of ChartAnalytics.co.in\\n\\nHDFC Bank: Buy | LTP: Rs 1,647 | Stop-Loss: Rs 1,612 | Target: Rs 1,720 | Return: 4.4 percent\\n\\nAfter marking a high on a closing basis in July this year, HDFC Bank\\'s stock price saw a corrective decline and halted at Rs 1,579-1,580 levels which was in close proximity to the 200-day MA (moving average) marking it as a strong support level.\\n\\nThe price movement after that led to the development of the symmetrical triangle. Currently, the stock is very close to multiple moving average support level at 50-day, 100-day and 200-day MA which is expected to act as a strong support level and the price is likely to move towards the previous highs of Rs 1,720 levels.\\n\\nThus, one should continue to hold the stock with stop-loss of Rs 1,612 and can expect a potential up move towards Rs 1,720 levels.\\n\\nManappuram Finance: Buy | LTP: Rs 142.40 | Stop-Loss: Rs 131 | Target: Rs 155 | Return: 9 percent\\n\\nSince February 2022, Manappuram Finance has been in a consolidation phase. After reaching a low point at Rs 81 levels in June 2022, the stock gradually climbed. During its ascent, it surpassed the 50-day, 100-day, and 200-day moving averages. However, its upward momentum slowed around Rs 133-134 levels, acting as a resistance, and a corrective decline followed. This decline found support near the 200-day moving average. A rebound in the price followed this price action.\\n\\nIn the past month, the price tested the resistance at Rs 131-133 levels multiple times. Finally, a breakout occurred which took the price above the horizontal trendline resistance of Rs 133, creating fresh buying opportunities.\\n\\nPresently, one can hold the stock, maintain a stop-loss near Rs 131, while expecting an upward move towards Rs 155.\\n\\nL&T Finance Holdings: Buy | LTP: Rs 126.2 | Stop-Loss: Rs 119 | Target: Rs 138-140 | Return: 11 percent\\n\\nAfter forming a bottom at Rs 78 levels in March this year, the stock price has witnessed a rebound. Despite a temporary violation, the price defended the 200-day MA as its support by staging a rebound and crossing above it. This reinforced the levels of 200-DMA as a major support for the stock.\\n\\nThe price gradually crossed above multiple moving averages of 50-day MA as well as 100-day MA which concluded the trend of the stock to be bullish. This up move in price halted near Rs 140 levels last month and retraced nearly 23.6 percent as per the Fibonacci retracement levels getting very close to the 50-day MA in the process.\\n\\nThus, the formation of higher tops and higher bottoms, Fibonacci retracement of 23.6 percent, and 50-day MA support level can trigger a rebound in price which could result in a potential continuation of the uptrend. One can continue holding the stock with a stop-loss of Rs 119 and look for a potential up move close to Rs 138-140 levels.\\n\\nExpert: Vidnyan Sawant, AVP - technical research at GEPL Capital\\n\\nICICI Bank: Buy | LTP: Rs 972.7 | Stop-Loss: Rs 940 | Target: Rs 1,040 | Return: 7 percent\\n\\nICICI Bank\\'s stock is currently trading around its all-time high levels and has shown a pattern of forming higher tops and higher bottoms on the monthly charts. This pattern suggests a strong positive sentiment for the stock over the long term. Recently, the stock has found support around the previous swing high, which has now become a new support level due to the concept of change in polarity (CIP). This indicates a bullish signal for the stock, with this support level forming around Rs 960.\\n\\nFurthermore, the stock has been consistently trading above its important moving averages, including the 50-day, 100-day, and 200-day moving averages. This alignment of moving averages in a positive direction indicates the bullish strength of the stock\\'s trend.\\n\\nThe relative strength index (RSI), a momentum indicator, has been indicating positive momentum on various time frames such as daily, weekly, and monthly. It has consistently remained above the 50 mark, reinforcing the presence of a favorable upward momentum in the stock\\'s price.\\n\\nLooking ahead, there is potential for the upward movement of the stock to continue, possibly targeting Rs 1,040 levels. It\\'s recommended to set a stop-loss at Rs 940, which should be triggered on a closing basis.\\n\\nCanara Bank: Buy | LTP: Rs 336.10 | Stop-Loss: Rs 320 | Target: Rs 360 | Return: 7 percent\\n\\nCanara Bank stock has rebounded positively from the critical support level of Rs 325, which shows a change in polarity at the same level. A notable Cup & Handle pattern breakout in early July 2023 suggested the onset of a bullish trend.\\n\\nThis upward trend is further reinforced as the stock prices consistently take support from the 12 & 26-day exponential moving averages (EMA). Additionally, the RSI displays a positive hidden divergence, indicating strong positive momentum in the stock.\\n\\nGoing ahead, we can expect the up move to continue till Rs 360 levels, where the stop-loss must be Rs 320 on closing basis.\\n\\nPNB Housing Finance: Buy | LTP: Rs 634.55 | Stop-Loss: Rs 600 | Target: Rs 700 | Return: 10 percent\\n\\nPNB Housing stock has made an impressive rise from its lower levels around Rs 380, evident from the rising steepness of the trend lines. The stock consistently forms higher highs and higher lows, indicating a sustained upward momentum.\\n\\nThis bullish sentiment is further validated as, during every decline, the stock rebounds from its variable support levels defined by the 12-day and 26-day EMAs.\\n\\nMoreover, the RSI exhibits a Positive Hidden Divergence, underscoring the prevailing positive momentum. Going ahead we can expect the up move to continue till Rs 700 level where the stop-loss must be Rs 600 on closing basis.\\n\\nRBL Bank: Buy | LTP: Rs 220.95 | Stop-Loss: Rs 205 | Target: Rs 270 | Return: 22 percent\\n\\nRBL Bank is currently trading close to its 52-week high, maintaining a higher top higher bottom pattern on the monthly charts, suggesting a positive long-term trend. Additionally, on the weekly chart, the stock has broken out of an Inverted Head & Shoulder pattern and is sustaining above that level, confirming a robust positive sentiment in the medium term. In the short term, the stock seems to be finding support around Rs 205 – 200 levels.\\n\\nMoreover, the stock has consistently traded above key moving averages, including the 50-day, 100-day, and 200-day moving averages. This alignment of moving averages in a positive direction further underscores the bullish trajectory of the stock.\\n\\nThe RSI, a momentum indicator, has consistently indicated positive momentum across various time frames such as daily, weekly, and monthly. The RSI has consistently maintained levels above 55, highlighting the presence of strong upward momentum in the stock\\'s price.\\n\\nLooking forward, there is potential for the stock\\'s upward movement to persist, with a potential target around Rs 270 levels. To manage risk, it is advisable to implement a stop-loss strategy at Rs 205, which should be activated based on closing prices.\\n\\nExpert: Mitesh Karwa, research analyst at Bonanza Portfolio\\n\\nAshok Leyland: Buy | LTP: Rs 187.55 | Stop-Loss: Rs 178 | Target: Rs 207 | Return: 10 percent\\n\\nA significant breakout of a Cup and Handle pattern in Ashok Leyland has been observed. This pattern often indicates a potential bullish continuation of the existing trend. The good volume during the breakout suggests increased buying interest at the current price levels, which further reinforces the positive outlook.\\n\\nMoreover, the price is trading above the major EMA, indicating a sustained uptrend. This alignment with the EMAs adds more confidence to the bullish scenario. Simultaneously, the technical indicator Ichimoku Cloud suggests that the price is trading above the conversion and base line which shows a Positive trend in the counter.\\n\\nHence, based on the above technical structure one can initiate a long position in Ashok Leyland at Rs 187.55 or buy on a dip till Rs 187 levels can be used as buying opportunity for the upside target of Rs 207. However, the bullish view will be negated if Ashok Leyland closes below the support level of Rs 178.\\n\\nHero MotoCorp: Buy | LTP: Rs 3,059.7 | Stop-Loss: Rs 2,850 | Target: Rs 3,500 | Return: 14 percent\\n\\nIn the weekly timeframe, Hero price retraced 0.618 percent from its high after an upward move. The stock found support at the EMA and rebounded, approaching the previous high. This is accompanied by a pattern of higher highs and higher lows, indicating a bullish trend.\\n\\nAdditionally, the price remains above the 100-period EMA and the Ichimoku Indicator, supporting the uptrend. The RSI momentum indicator is also trending, with new highs, confirming the trend.\\n\\nIn light of these technical factors, a long position could be considered at Rs 3,059 or a potential decline to Rs 3,050, with a target price of Rs 3,500. However, this bullish view would be invalidated if the stock closes below the support level of Rs 2,850.\\n\\nBank of Maharashtra: Buy | LTP: Rs 37.3 | Stop-Loss: Rs 30 | Target: Rs 50 | Return: 34 percent\\n\\nBank of Maharashtra has seen breaking out of an Inverse Head and Shoulder pattern on the weekly timeframe with a bullish candlestick pattern and closing above the highs of last six years which indicates strength. The stock is also trading above all its important EMAs on the daily timeframe which acts as a confluence.\\n\\nThe supertrend indicator is also indicating a bullish continuation which supports the bullish view. Momentum oscillator RSI (14) is at around 75 on the daily time frame indicating strength by sustaining above 50 and the ichimoku cloud is also suggesting a bullish move as the price is trading above the conversion line, base line and cloud.\\n\\nObservation of the above factors indicates that a bullish move in Bank of Maharashtra is possible for target upto Rs 50. One can initiate a buy trade in between the range of Rs 37-37.3, with stop-loss of Rs 30 on daily closing basis.\\n\\nDisclaimer: The views and investment tips expressed by investment experts on Moneycontrol.com are their own and not those of the website or its management. Moneycontrol.com advises users to check with certified experts before taking any investment decisions.\\n\\nSunil Shankar Matkar\\n\\nTags: #Market Edge #Nifty #RBI monetary policy #Sensex #Stocks Views\\n\\nfirst published: Aug 10, 2023 01:38 pm\\n\\nDiscover the latest business news, Sensex, and Nifty updates. Obtain Personal Finance insights, tax queries, and expert opinions on Moneycontrol or download the Moneycontrol App to stay updated!\\n\\nAdvertisement\\n\\nRemove Ad\\n\\nTrending news\\n\\nWhy millionaire Bryan Johnson used Anil Kapoor-Juhi Chawla song for a lesson in sexual health\\n\\nIndian-origin man wins Rs 8 crore lottery after buying gold jewellery for wife: \\'It\\'s a blessing\\'\\n\\nBengaluru man creates quirky CV for house help, calls her \\'MasterChef\\': \\'Bas ek hi goal hai...\\'\\n\\nMusician crafts guitar out of late uncle\\'s skeleton as tribute, names it \\'Skelecaster\\'\\n\\nWhat is the pink elephant test and what it reveals about your ability to control thoughts\\n\\nAdvisory Alert:\\n\\nForum Facebook Twitter Instagram Linkedin RSS\\n\\nPortfolio\\n\\nMarkets\\n\\nLoans up to ₹15 LAKHS\\n\\nWatchlist\\n\\nLive TV Show\\n\\nCurrencies\\n\\nCredit CardsLifetime Free\\n\\nCredit Score\\n\\nFinance Tracker\\n\\nCommodities\\n\\nFixed Deposits\\n\\nFixed Income\\n\\nPersonal Finance\\n\\nMutual Fund\\n\\nPre-Market\\n\\nIPO\\n\\nGlobal Market\\n\\nBudget 2024\\n\\nElections 2024\\n\\nGold Rate\\n\\nBSE Sensex\\n\\nForum\\n\\nMC 30\\n\\nNews\\n\\nBusiness\\n\\nMarkets\\n\\nStocks\\n\\nIncome Tax Calculator\\n\\nElection Schedule 2024\\n\\nIndia News\\n\\nEconomy\\n\\nMutual Funds\\n\\nPersonal Finance\\n\\nIPO News\\n\\nStartups\\n\\nStocks: A | B | C | D | E | F | G | H | I | J | K | L | M | N | O | P | Q | R | S | T | U | V | W | X | Y | Z | Others\\n\\nMutual Funds: A | B | C | D | E | F | G | H | I | J | K | L | M | N | O | P | Q | R | S | T | U | V | W | X | Y | Z\\n\\nVisit the App Store to see all our apps:\\n\\nDownload from Google PlayDownload from APP StoreDownload from Windows Phone\\n\\nTools\\n\\nRetirement Planning\\n\\nEMI Calculator\\n\\nSIP Calculator\\n\\nSIP Planner\\n\\nUseful Links\\n\\nCrypto News\\n\\nBank Holidays in India\\n\\nGold Rate Today\\n\\nSilver Rate Today\\n\\nTrending News\\n\\nStartups\\n\\nNational News\\n\\nMC Videos\\n\\nMC You Tube\\n\\nHouse Purchase Index\\n\\nBest Portfolio Manager\\n\\nSmall Savings Schemes\\n\\nBonds\\n\\nTopperLearning\\n\\nClear Study Doubts\\n\\nEducation Franchisee Opportunity\\n\\nSpecials\\n\\nMaster Your Money\\n\\nGame Changers\\n\\nInvestment Watch\\n\\nPowerYourTrade\\n\\nFocus\\n\\nSME Step Up\\n\\nNetwork 18 Sites\\n\\nNews18\\n\\nFirstpost\\n\\nCNBC TV18\\n\\nNews18 Hindi\\n\\nCricketnext\\n\\nOverdrive\\n\\nTopper Learning\\n\\nAbout us | Contact Us | Advisory Alert | Advertise with Us | Support | Disclaimer | Privacy Policy | Cookie Policy | Terms & Conditions | Careers | Financial Terms (Glossary) | FAQs | Sitemap | RSS Feed | Investors\\n\\nCopyright © Network18 Media & Investments Limited. All rights reserved. Reproduction of news articles, photos, videos or any other content in whole or in part in any form or medium without express writtern permission of moneycontrol.com is prohibited.\\n\\nYou got 30 Day’s Trial of\\n\\nGrab it Now\\n\\nAd-Free Experience\\n\\nTop Articles from Financial Times\\n\\nActionable Insights\\n\\nMC Research\\n\\nEconomic Calendar\\n\\n& Many More\\n\\nYou are already a Moneycontrol Pro user.\\n\\nSunil Matkar')]"
      ]
     },
     "execution_count": 16,
     "metadata": {},
     "output_type": "execute_result"
    }
   ],
   "source": [
    "data = loader.load()\n",
    "data"
   ]
  },
  {
   "cell_type": "code",
   "execution_count": 17,
   "id": "ddf0228c-a3ad-48f5-9705-3e37df0593d4",
   "metadata": {},
   "outputs": [
    {
     "data": {
      "text/plain": [
       "2"
      ]
     },
     "execution_count": 17,
     "metadata": {},
     "output_type": "execute_result"
    }
   ],
   "source": [
    "len(data)"
   ]
  },
  {
   "cell_type": "code",
   "execution_count": 18,
   "id": "0f71af4a-12c6-4845-a85e-863c55710aeb",
   "metadata": {},
   "outputs": [
    {
     "data": {
      "text/plain": [
       "{'source': 'https://www.moneycontrol.com/news/business/banks/hdfc-bank-re-appoints-sanmoy-chakrabarti-as-chief-risk-officer-11259771.html'}"
      ]
     },
     "execution_count": 18,
     "metadata": {},
     "output_type": "execute_result"
    }
   ],
   "source": [
    "data[0].metadata"
   ]
  },
  {
   "cell_type": "code",
   "execution_count": 19,
   "id": "9d4422ff-aef6-48aa-89c7-06a129cb9cc8",
   "metadata": {},
   "outputs": [
    {
     "data": {
      "text/plain": [
       "'Interstellar is a 2014 epic science fiction film co-written, directed, and produced by Christopher Nolan. \\nIt stars Matthew McConaughey, Anne Hathaway, Jessica Chastain, Bill Irwin, Ellen Burstyn, Matt Damon, and Michael Caine. \\nSet in a dystopian future where humanity is embroiled in a catastrophic blight and famine, the film follows a group of astronauts who travel through a wormhole near Saturn in search of a new home for humankind.\\n\\nBrothers Christopher and Jonathan Nolan wrote the screenplay, which had its origins in a script Jonathan developed in 2007 and was originally set to be directed by Steven Spielberg. \\nKip Thorne, a Caltech theoretical physicist and 2017 Nobel laureate in Physics,[4] was an executive producer, acted as a scientific consultant, and wrote a tie-in book, The Science of Interstellar. \\nCinematographer Hoyte van Hoytema shot it on 35 mm movie film in the Panavision anamorphic format and IMAX 70 mm. Principal photography began in late 2013 and took place in Alberta, Iceland, and Los Angeles. \\nInterstellar uses extensive practical and miniature effects, and the company Double Negative created additional digital effects.\\n\\nInterstellar premiered in Los Angeles on October 26, 2014. In the United States, it was first released on film stock, expanding to venues using digital projectors. The film received generally positive reviews from critics and grossed over $677 million worldwide ($715 million after subsequent re-releases), making it the tenth-highest-grossing film of 2014. \\nIt has been praised by astronomers for its scientific accuracy and portrayal of theoretical astrophysics.[5][6][7] Interstellar was nominated for five awards at the 87th Academy Awards, winning Best Visual Effects, and received numerous other accolades.'"
      ]
     },
     "execution_count": 19,
     "metadata": {},
     "output_type": "execute_result"
    }
   ],
   "source": [
    "text = \"\"\"Interstellar is a 2014 epic science fiction film co-written, directed, and produced by Christopher Nolan. \n",
    "It stars Matthew McConaughey, Anne Hathaway, Jessica Chastain, Bill Irwin, Ellen Burstyn, Matt Damon, and Michael Caine. \n",
    "Set in a dystopian future where humanity is embroiled in a catastrophic blight and famine, the film follows a group of astronauts who travel through a wormhole near Saturn in search of a new home for humankind.\n",
    "\n",
    "Brothers Christopher and Jonathan Nolan wrote the screenplay, which had its origins in a script Jonathan developed in 2007 and was originally set to be directed by Steven Spielberg. \n",
    "Kip Thorne, a Caltech theoretical physicist and 2017 Nobel laureate in Physics,[4] was an executive producer, acted as a scientific consultant, and wrote a tie-in book, The Science of Interstellar. \n",
    "Cinematographer Hoyte van Hoytema shot it on 35 mm movie film in the Panavision anamorphic format and IMAX 70 mm. Principal photography began in late 2013 and took place in Alberta, Iceland, and Los Angeles. \n",
    "Interstellar uses extensive practical and miniature effects, and the company Double Negative created additional digital effects.\n",
    "\n",
    "Interstellar premiered in Los Angeles on October 26, 2014. In the United States, it was first released on film stock, expanding to venues using digital projectors. The film received generally positive reviews from critics and grossed over $677 million worldwide ($715 million after subsequent re-releases), making it the tenth-highest-grossing film of 2014. \n",
    "It has been praised by astronomers for its scientific accuracy and portrayal of theoretical astrophysics.[5][6][7] Interstellar was nominated for five awards at the 87th Academy Awards, winning Best Visual Effects, and received numerous other accolades.\"\"\"\n",
    "\n",
    "text"
   ]
  },
  {
   "cell_type": "code",
   "execution_count": 20,
   "id": "fa52f758-fc19-4e71-96d6-3d2ffd2432ff",
   "metadata": {},
   "outputs": [
    {
     "data": {
      "text/plain": [
       "'Interstellar is a 2014 epic science fiction film co-written, directed, and produced by Christopher Nolan. \\nIt stars Matthew McConaughey, Anne Hathaway, Jessica Chastain, Bill Irwin, Ellen Burstyn, Mat'"
      ]
     },
     "execution_count": 20,
     "metadata": {},
     "output_type": "execute_result"
    }
   ],
   "source": [
    "text[0:200]"
   ]
  },
  {
   "cell_type": "code",
   "execution_count": 21,
   "id": "d7c8ed70-43a9-40b6-8af8-5eb4179e1281",
   "metadata": {},
   "outputs": [
    {
     "data": {
      "text/plain": [
       "['Interstellar',\n",
       " 'is',\n",
       " 'a',\n",
       " '2014',\n",
       " 'epic',\n",
       " 'science',\n",
       " 'fiction',\n",
       " 'film',\n",
       " 'co-written,',\n",
       " 'directed,',\n",
       " 'and',\n",
       " 'produced',\n",
       " 'by',\n",
       " 'Christopher',\n",
       " 'Nolan.',\n",
       " '\\nIt',\n",
       " 'stars',\n",
       " 'Matthew',\n",
       " 'McConaughey,',\n",
       " 'Anne',\n",
       " 'Hathaway,',\n",
       " 'Jessica',\n",
       " 'Chastain,',\n",
       " 'Bill',\n",
       " 'Irwin,',\n",
       " 'Ellen',\n",
       " 'Burstyn,',\n",
       " 'Matt',\n",
       " 'Damon,',\n",
       " 'and',\n",
       " 'Michael',\n",
       " 'Caine.',\n",
       " '\\nSet',\n",
       " 'in',\n",
       " 'a',\n",
       " 'dystopian',\n",
       " 'future',\n",
       " 'where',\n",
       " 'humanity',\n",
       " 'is',\n",
       " 'embroiled',\n",
       " 'in',\n",
       " 'a',\n",
       " 'catastrophic',\n",
       " 'blight',\n",
       " 'and',\n",
       " 'famine,',\n",
       " 'the',\n",
       " 'film',\n",
       " 'follows',\n",
       " 'a',\n",
       " 'group',\n",
       " 'of',\n",
       " 'astronauts',\n",
       " 'who',\n",
       " 'travel',\n",
       " 'through',\n",
       " 'a',\n",
       " 'wormhole',\n",
       " 'near',\n",
       " 'Saturn',\n",
       " 'in',\n",
       " 'search',\n",
       " 'of',\n",
       " 'a',\n",
       " 'new',\n",
       " 'home',\n",
       " 'for',\n",
       " 'humankind.\\n\\nBrothers',\n",
       " 'Christopher',\n",
       " 'and',\n",
       " 'Jonathan',\n",
       " 'Nolan',\n",
       " 'wrote',\n",
       " 'the',\n",
       " 'screenplay,',\n",
       " 'which',\n",
       " 'had',\n",
       " 'its',\n",
       " 'origins',\n",
       " 'in',\n",
       " 'a',\n",
       " 'script',\n",
       " 'Jonathan',\n",
       " 'developed',\n",
       " 'in',\n",
       " '2007',\n",
       " 'and',\n",
       " 'was',\n",
       " 'originally',\n",
       " 'set',\n",
       " 'to',\n",
       " 'be',\n",
       " 'directed',\n",
       " 'by',\n",
       " 'Steven',\n",
       " 'Spielberg.',\n",
       " '\\nKip',\n",
       " 'Thorne,',\n",
       " 'a',\n",
       " 'Caltech',\n",
       " 'theoretical',\n",
       " 'physicist',\n",
       " 'and',\n",
       " '2017',\n",
       " 'Nobel',\n",
       " 'laureate',\n",
       " 'in',\n",
       " 'Physics,[4]',\n",
       " 'was',\n",
       " 'an',\n",
       " 'executive',\n",
       " 'producer,',\n",
       " 'acted',\n",
       " 'as',\n",
       " 'a',\n",
       " 'scientific',\n",
       " 'consultant,',\n",
       " 'and',\n",
       " 'wrote',\n",
       " 'a',\n",
       " 'tie-in',\n",
       " 'book,',\n",
       " 'The',\n",
       " 'Science',\n",
       " 'of',\n",
       " 'Interstellar.',\n",
       " '\\nCinematographer',\n",
       " 'Hoyte',\n",
       " 'van',\n",
       " 'Hoytema',\n",
       " 'shot',\n",
       " 'it',\n",
       " 'on',\n",
       " '35',\n",
       " 'mm',\n",
       " 'movie',\n",
       " 'film',\n",
       " 'in',\n",
       " 'the',\n",
       " 'Panavision',\n",
       " 'anamorphic',\n",
       " 'format',\n",
       " 'and',\n",
       " 'IMAX',\n",
       " '70',\n",
       " 'mm.',\n",
       " 'Principal',\n",
       " 'photography',\n",
       " 'began',\n",
       " 'in',\n",
       " 'late',\n",
       " '2013',\n",
       " 'and',\n",
       " 'took',\n",
       " 'place',\n",
       " 'in',\n",
       " 'Alberta,',\n",
       " 'Iceland,',\n",
       " 'and',\n",
       " 'Los',\n",
       " 'Angeles.',\n",
       " '\\nInterstellar',\n",
       " 'uses',\n",
       " 'extensive',\n",
       " 'practical',\n",
       " 'and',\n",
       " 'miniature',\n",
       " 'effects,',\n",
       " 'and',\n",
       " 'the',\n",
       " 'company',\n",
       " 'Double',\n",
       " 'Negative',\n",
       " 'created',\n",
       " 'additional',\n",
       " 'digital',\n",
       " 'effects.\\n\\nInterstellar',\n",
       " 'premiered',\n",
       " 'in',\n",
       " 'Los',\n",
       " 'Angeles',\n",
       " 'on',\n",
       " 'October',\n",
       " '26,',\n",
       " '2014.',\n",
       " 'In',\n",
       " 'the',\n",
       " 'United',\n",
       " 'States,',\n",
       " 'it',\n",
       " 'was',\n",
       " 'first',\n",
       " 'released',\n",
       " 'on',\n",
       " 'film',\n",
       " 'stock,',\n",
       " 'expanding',\n",
       " 'to',\n",
       " 'venues',\n",
       " 'using',\n",
       " 'digital',\n",
       " 'projectors.',\n",
       " 'The',\n",
       " 'film',\n",
       " 'received',\n",
       " 'generally',\n",
       " 'positive',\n",
       " 'reviews',\n",
       " 'from',\n",
       " 'critics',\n",
       " 'and',\n",
       " 'grossed',\n",
       " 'over',\n",
       " '$677',\n",
       " 'million',\n",
       " 'worldwide',\n",
       " '($715',\n",
       " 'million',\n",
       " 'after',\n",
       " 'subsequent',\n",
       " 're-releases),',\n",
       " 'making',\n",
       " 'it',\n",
       " 'the',\n",
       " 'tenth-highest-grossing',\n",
       " 'film',\n",
       " 'of',\n",
       " '2014.',\n",
       " '\\nIt',\n",
       " 'has',\n",
       " 'been',\n",
       " 'praised',\n",
       " 'by',\n",
       " 'astronomers',\n",
       " 'for',\n",
       " 'its',\n",
       " 'scientific',\n",
       " 'accuracy',\n",
       " 'and',\n",
       " 'portrayal',\n",
       " 'of',\n",
       " 'theoretical',\n",
       " 'astrophysics.[5][6][7]',\n",
       " 'Interstellar',\n",
       " 'was',\n",
       " 'nominated',\n",
       " 'for',\n",
       " 'five',\n",
       " 'awards',\n",
       " 'at',\n",
       " 'the',\n",
       " '87th',\n",
       " 'Academy',\n",
       " 'Awards,',\n",
       " 'winning',\n",
       " 'Best',\n",
       " 'Visual',\n",
       " 'Effects,',\n",
       " 'and',\n",
       " 'received',\n",
       " 'numerous',\n",
       " 'other',\n",
       " 'accolades.']"
      ]
     },
     "execution_count": 21,
     "metadata": {},
     "output_type": "execute_result"
    }
   ],
   "source": [
    "words = text.split(\" \")\n",
    "words"
   ]
  },
  {
   "cell_type": "code",
   "execution_count": 25,
   "id": "ce5f67b8-1f98-4e2c-b5e3-f979fdb857bb",
   "metadata": {},
   "outputs": [
    {
     "data": {
      "text/plain": [
       "<langchain_text_splitters.character.CharacterTextSplitter at 0x238038d6b50>"
      ]
     },
     "execution_count": 25,
     "metadata": {},
     "output_type": "execute_result"
    }
   ],
   "source": [
    "from langchain.text_splitter import CharacterTextSplitter as cts\n",
    "\n",
    "splitter = cts(\n",
    "    separator=\"\\n\",\n",
    "    chunk_size = 200,\n",
    "    chunk_overlap = 0\n",
    ")\n",
    "splitter"
   ]
  },
  {
   "cell_type": "code",
   "execution_count": 26,
   "id": "a647ddc5-1b9b-4a05-a6b8-a6052a9aacb5",
   "metadata": {},
   "outputs": [
    {
     "name": "stderr",
     "output_type": "stream",
     "text": [
      "Created a chunk of size 210, which is longer than the specified 200\n",
      "Created a chunk of size 208, which is longer than the specified 200\n",
      "Created a chunk of size 358, which is longer than the specified 200\n"
     ]
    },
    {
     "data": {
      "text/plain": [
       "9"
      ]
     },
     "execution_count": 26,
     "metadata": {},
     "output_type": "execute_result"
    }
   ],
   "source": [
    "chunks = splitter.split_text(text)\n",
    "len(chunks)"
   ]
  },
  {
   "cell_type": "code",
   "execution_count": 27,
   "id": "93ac20ac-1433-4cd7-a8f3-5d668e413af7",
   "metadata": {},
   "outputs": [
    {
     "data": {
      "text/plain": [
       "['Interstellar is a 2014 epic science fiction film co-written, directed, and produced by Christopher Nolan.',\n",
       " 'It stars Matthew McConaughey, Anne Hathaway, Jessica Chastain, Bill Irwin, Ellen Burstyn, Matt Damon, and Michael Caine.',\n",
       " 'Set in a dystopian future where humanity is embroiled in a catastrophic blight and famine, the film follows a group of astronauts who travel through a wormhole near Saturn in search of a new home for humankind.',\n",
       " 'Brothers Christopher and Jonathan Nolan wrote the screenplay, which had its origins in a script Jonathan developed in 2007 and was originally set to be directed by Steven Spielberg.',\n",
       " 'Kip Thorne, a Caltech theoretical physicist and 2017 Nobel laureate in Physics,[4] was an executive producer, acted as a scientific consultant, and wrote a tie-in book, The Science of Interstellar.',\n",
       " 'Cinematographer Hoyte van Hoytema shot it on 35 mm movie film in the Panavision anamorphic format and IMAX 70 mm. Principal photography began in late 2013 and took place in Alberta, Iceland, and Los Angeles.',\n",
       " 'Interstellar uses extensive practical and miniature effects, and the company Double Negative created additional digital effects.',\n",
       " 'Interstellar premiered in Los Angeles on October 26, 2014. In the United States, it was first released on film stock, expanding to venues using digital projectors. The film received generally positive reviews from critics and grossed over $677 million worldwide ($715 million after subsequent re-releases), making it the tenth-highest-grossing film of 2014.',\n",
       " 'It has been praised by astronomers for its scientific accuracy and portrayal of theoretical astrophysics.[5][6][7] Interstellar was nominated for five awards at the 87th Academy Awards, winning Best Visual Effects, and received numerous other accolades.']"
      ]
     },
     "execution_count": 27,
     "metadata": {},
     "output_type": "execute_result"
    }
   ],
   "source": [
    "chunks"
   ]
  },
  {
   "cell_type": "code",
   "execution_count": 28,
   "id": "3a50cfcd-dc39-4374-ab9a-fd309f851e6e",
   "metadata": {},
   "outputs": [
    {
     "name": "stdout",
     "output_type": "stream",
     "text": [
      "105\n",
      "120\n",
      "210\n",
      "181\n",
      "197\n",
      "207\n",
      "128\n",
      "357\n",
      "253\n"
     ]
    }
   ],
   "source": [
    "for chunk in chunks:\n",
    "    print(len(chunk))"
   ]
  },
  {
   "cell_type": "code",
   "execution_count": 47,
   "id": "a16fc5fd-d5be-421d-99c5-666e4a9a93e8",
   "metadata": {},
   "outputs": [
    {
     "data": {
      "text/plain": [
       "['Interstellar is a 2014 epic science fiction film co-written, directed, and produced by Christopher Nolan.',\n",
       " 'It stars Matthew McConaughey, Anne Hathaway, Jessica Chastain, Bill Irwin, Ellen Burstyn, Matt Damon, and Michael Caine.',\n",
       " 'Set in a dystopian future where humanity is embroiled in a catastrophic blight and famine',\n",
       " ', the film follows a group of astronauts who travel through a wormhole near Saturn in search of a new home for humankind.',\n",
       " 'Brothers Christopher and Jonathan Nolan wrote the screenplay, which had its origins in a script Jonathan developed in 2007 and was originally set to be directed by Steven Spielberg.',\n",
       " 'Kip Thorne, a Caltech theoretical physicist and 2017 Nobel laureate in Physics,[4] was an executive producer, acted as a scientific consultant, and wrote a tie-in book, The Science of Interstellar.',\n",
       " 'Cinematographer Hoyte van Hoytema shot it on 35 mm movie film in the Panavision anamorphic format and IMAX 70 mm. Principal photography began in late 2013 and took place in Alberta, Iceland',\n",
       " ', and Los Angeles.',\n",
       " 'Interstellar uses extensive practical and miniature effects, and the company Double Negative created additional digital effects.',\n",
       " 'Interstellar premiered in Los Angeles on October 26, 2014. In the United States, it was first released on film stock',\n",
       " ', expanding to venues using digital projectors. The film received generally positive reviews from critics and grossed over $677 million worldwide ($715 million after subsequent re-releases)',\n",
       " ', making it the tenth-highest-grossing film of 2014.',\n",
       " 'It has been praised by astronomers for its scientific accuracy and portrayal of theoretical astrophysics.[5][6][7] Interstellar was nominated for five awards at the 87th Academy Awards',\n",
       " ', winning Best Visual Effects, and received numerous other accolades.']"
      ]
     },
     "execution_count": 47,
     "metadata": {},
     "output_type": "execute_result"
    }
   ],
   "source": [
    "from langchain.text_splitter import RecursiveCharacterTextSplitter as rcts\n",
    "\n",
    "rec_spltr = rcts(\n",
    "    separators = [\"\\n\", \",\", \".\"],\n",
    "    chunk_size = 200,\n",
    "    chunk_overlap = 0\n",
    ")\n",
    "chunkz = rec_spltr.split_text(text)\n",
    "chunkz"
   ]
  },
  {
   "cell_type": "code",
   "execution_count": 48,
   "id": "36679505-dec5-4312-8e84-2014fd088152",
   "metadata": {},
   "outputs": [
    {
     "data": {
      "text/plain": [
       "14"
      ]
     },
     "execution_count": 48,
     "metadata": {},
     "output_type": "execute_result"
    }
   ],
   "source": [
    "len(chunkz)"
   ]
  },
  {
   "cell_type": "code",
   "execution_count": 49,
   "id": "f128a5bb-d227-4fe6-b5b9-b23848b99810",
   "metadata": {},
   "outputs": [
    {
     "name": "stdout",
     "output_type": "stream",
     "text": [
      "105\n",
      "120\n",
      "89\n",
      "121\n",
      "181\n",
      "197\n",
      "189\n",
      "18\n",
      "128\n",
      "116\n",
      "189\n",
      "52\n",
      "184\n",
      "69\n"
     ]
    }
   ],
   "source": [
    "for chunk in chunkz:\n",
    "    print(len(chunk))"
   ]
  },
  {
   "cell_type": "code",
   "execution_count": null,
   "id": "e78e6834-6234-467c-bee9-433b87179f92",
   "metadata": {},
   "outputs": [],
   "source": []
  }
 ],
 "metadata": {
  "kernelspec": {
   "display_name": "Python 3 (ipykernel)",
   "language": "python",
   "name": "python3"
  },
  "language_info": {
   "codemirror_mode": {
    "name": "ipython",
    "version": 3
   },
   "file_extension": ".py",
   "mimetype": "text/x-python",
   "name": "python",
   "nbconvert_exporter": "python",
   "pygments_lexer": "ipython3",
   "version": "3.11.4"
  }
 },
 "nbformat": 4,
 "nbformat_minor": 5
}
