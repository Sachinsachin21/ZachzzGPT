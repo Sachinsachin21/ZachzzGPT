{
 "cells": [
  {
   "cell_type": "code",
   "execution_count": 17,
   "id": "9870cd22-8e69-4de9-a314-a8cd0d402026",
   "metadata": {},
   "outputs": [
    {
     "name": "stdout",
     "output_type": "stream",
     "text": [
      "Requirement already satisfied: streamlit in c:\\users\\sachi\\appdata\\local\\programs\\python\\python311\\lib\\site-packages (1.32.0)\n",
      "Requirement already satisfied: langchain in c:\\users\\sachi\\appdata\\local\\programs\\python\\python311\\lib\\site-packages (0.3.25)\n",
      "Requirement already satisfied: langchain-community in c:\\users\\sachi\\appdata\\local\\programs\\python\\python311\\lib\\site-packages (0.3.25)\n",
      "Requirement already satisfied: langchain-groq in c:\\users\\sachi\\appdata\\local\\programs\\python\\python311\\lib\\site-packages (0.3.2)\n",
      "Requirement already satisfied: groq in c:\\users\\sachi\\appdata\\local\\programs\\python\\python311\\lib\\site-packages (0.28.0)\n",
      "Requirement already satisfied: altair<6,>=4.0 in c:\\users\\sachi\\appdata\\local\\programs\\python\\python311\\lib\\site-packages (from streamlit) (5.3.0)\n",
      "Requirement already satisfied: blinker<2,>=1.0.0 in c:\\users\\sachi\\appdata\\local\\programs\\python\\python311\\lib\\site-packages (from streamlit) (1.8.2)\n",
      "Requirement already satisfied: cachetools<6,>=4.0 in c:\\users\\sachi\\appdata\\local\\programs\\python\\python311\\lib\\site-packages (from streamlit) (5.3.3)\n",
      "Requirement already satisfied: click<9,>=7.0 in c:\\users\\sachi\\appdata\\local\\programs\\python\\python311\\lib\\site-packages (from streamlit) (8.1.7)\n",
      "Requirement already satisfied: numpy<2,>=1.19.3 in c:\\users\\sachi\\appdata\\local\\programs\\python\\python311\\lib\\site-packages (from streamlit) (1.26.4)\n",
      "Requirement already satisfied: packaging<24,>=16.8 in c:\\users\\sachi\\appdata\\local\\programs\\python\\python311\\lib\\site-packages (from streamlit) (23.2)\n",
      "Requirement already satisfied: pandas<3,>=1.3.0 in c:\\users\\sachi\\appdata\\local\\programs\\python\\python311\\lib\\site-packages (from streamlit) (2.2.1)\n",
      "Requirement already satisfied: pillow<11,>=7.1.0 in c:\\users\\sachi\\appdata\\local\\programs\\python\\python311\\lib\\site-packages (from streamlit) (9.5.0)\n",
      "Requirement already satisfied: protobuf<5,>=3.20 in c:\\users\\sachi\\appdata\\local\\programs\\python\\python311\\lib\\site-packages (from streamlit) (4.25.3)\n",
      "Requirement already satisfied: pyarrow>=7.0 in c:\\users\\sachi\\appdata\\local\\programs\\python\\python311\\lib\\site-packages (from streamlit) (16.1.0)\n",
      "Requirement already satisfied: requests<3,>=2.27 in c:\\users\\sachi\\appdata\\local\\programs\\python\\python311\\lib\\site-packages (from streamlit) (2.32.3)\n",
      "Requirement already satisfied: rich<14,>=10.14.0 in c:\\users\\sachi\\appdata\\local\\programs\\python\\python311\\lib\\site-packages (from streamlit) (13.7.1)\n",
      "Requirement already satisfied: tenacity<9,>=8.1.0 in c:\\users\\sachi\\appdata\\local\\programs\\python\\python311\\lib\\site-packages (from streamlit) (8.4.2)\n",
      "Requirement already satisfied: toml<2,>=0.10.1 in c:\\users\\sachi\\appdata\\local\\programs\\python\\python311\\lib\\site-packages (from streamlit) (0.10.2)\n",
      "Requirement already satisfied: typing-extensions<5,>=4.3.0 in c:\\users\\sachi\\appdata\\local\\programs\\python\\python311\\lib\\site-packages (from streamlit) (4.12.2)\n",
      "Requirement already satisfied: gitpython!=3.1.19,<4,>=3.0.7 in c:\\users\\sachi\\appdata\\local\\programs\\python\\python311\\lib\\site-packages (from streamlit) (3.1.43)\n",
      "Requirement already satisfied: pydeck<1,>=0.8.0b4 in c:\\users\\sachi\\appdata\\local\\programs\\python\\python311\\lib\\site-packages (from streamlit) (0.9.1)\n",
      "Requirement already satisfied: tornado<7,>=6.0.3 in c:\\users\\sachi\\appdata\\local\\programs\\python\\python311\\lib\\site-packages (from streamlit) (6.3.3)\n",
      "Requirement already satisfied: watchdog>=2.1.5 in c:\\users\\sachi\\appdata\\local\\programs\\python\\python311\\lib\\site-packages (from streamlit) (4.0.1)\n",
      "Requirement already satisfied: jinja2 in c:\\users\\sachi\\appdata\\local\\programs\\python\\python311\\lib\\site-packages (from altair<6,>=4.0->streamlit) (3.1.2)\n",
      "Requirement already satisfied: jsonschema>=3.0 in c:\\users\\sachi\\appdata\\local\\programs\\python\\python311\\lib\\site-packages (from altair<6,>=4.0->streamlit) (4.19.1)\n",
      "Requirement already satisfied: toolz in c:\\users\\sachi\\appdata\\local\\programs\\python\\python311\\lib\\site-packages (from altair<6,>=4.0->streamlit) (0.12.1)\n",
      "Requirement already satisfied: colorama in c:\\users\\sachi\\appdata\\local\\programs\\python\\python311\\lib\\site-packages (from click<9,>=7.0->streamlit) (0.4.6)\n",
      "Requirement already satisfied: gitdb<5,>=4.0.1 in c:\\users\\sachi\\appdata\\local\\programs\\python\\python311\\lib\\site-packages (from gitpython!=3.1.19,<4,>=3.0.7->streamlit) (4.0.11)\n",
      "Requirement already satisfied: smmap<6,>=3.0.1 in c:\\users\\sachi\\appdata\\local\\programs\\python\\python311\\lib\\site-packages (from gitdb<5,>=4.0.1->gitpython!=3.1.19,<4,>=3.0.7->streamlit) (5.0.1)\n",
      "Requirement already satisfied: python-dateutil>=2.8.2 in c:\\users\\sachi\\appdata\\local\\programs\\python\\python311\\lib\\site-packages (from pandas<3,>=1.3.0->streamlit) (2.8.2)\n",
      "Requirement already satisfied: pytz>=2020.1 in c:\\users\\sachi\\appdata\\local\\programs\\python\\python311\\lib\\site-packages (from pandas<3,>=1.3.0->streamlit) (2023.4)\n",
      "Requirement already satisfied: tzdata>=2022.7 in c:\\users\\sachi\\appdata\\local\\programs\\python\\python311\\lib\\site-packages (from pandas<3,>=1.3.0->streamlit) (2023.3)\n",
      "Requirement already satisfied: charset-normalizer<4,>=2 in c:\\users\\sachi\\appdata\\local\\programs\\python\\python311\\lib\\site-packages (from requests<3,>=2.27->streamlit) (3.2.0)\n",
      "Requirement already satisfied: idna<4,>=2.5 in c:\\users\\sachi\\appdata\\local\\programs\\python\\python311\\lib\\site-packages (from requests<3,>=2.27->streamlit) (2.10)\n",
      "Requirement already satisfied: urllib3<3,>=1.21.1 in c:\\users\\sachi\\appdata\\local\\programs\\python\\python311\\lib\\site-packages (from requests<3,>=2.27->streamlit) (2.0.5)\n",
      "Requirement already satisfied: certifi>=2017.4.17 in c:\\users\\sachi\\appdata\\local\\programs\\python\\python311\\lib\\site-packages (from requests<3,>=2.27->streamlit) (2023.7.22)\n",
      "Requirement already satisfied: markdown-it-py>=2.2.0 in c:\\users\\sachi\\appdata\\local\\programs\\python\\python311\\lib\\site-packages (from rich<14,>=10.14.0->streamlit) (3.0.0)\n",
      "Requirement already satisfied: pygments<3.0.0,>=2.13.0 in c:\\users\\sachi\\appdata\\local\\programs\\python\\python311\\lib\\site-packages (from rich<14,>=10.14.0->streamlit) (2.16.1)\n",
      "Requirement already satisfied: langchain-core<1.0.0,>=0.3.58 in c:\\users\\sachi\\appdata\\local\\programs\\python\\python311\\lib\\site-packages (from langchain) (0.3.65)\n",
      "Requirement already satisfied: langchain-text-splitters<1.0.0,>=0.3.8 in c:\\users\\sachi\\appdata\\local\\programs\\python\\python311\\lib\\site-packages (from langchain) (0.3.8)\n",
      "Requirement already satisfied: langsmith<0.4,>=0.1.17 in c:\\users\\sachi\\appdata\\local\\programs\\python\\python311\\lib\\site-packages (from langchain) (0.3.45)\n",
      "Requirement already satisfied: pydantic<3.0.0,>=2.7.4 in c:\\users\\sachi\\appdata\\local\\programs\\python\\python311\\lib\\site-packages (from langchain) (2.11.7)\n",
      "Requirement already satisfied: SQLAlchemy<3,>=1.4 in c:\\users\\sachi\\appdata\\local\\programs\\python\\python311\\lib\\site-packages (from langchain) (2.0.35)\n",
      "Requirement already satisfied: PyYAML>=5.3 in c:\\users\\sachi\\appdata\\local\\programs\\python\\python311\\lib\\site-packages (from langchain) (6.0)\n",
      "Requirement already satisfied: jsonpatch<2.0,>=1.33 in c:\\users\\sachi\\appdata\\local\\programs\\python\\python311\\lib\\site-packages (from langchain-core<1.0.0,>=0.3.58->langchain) (1.33)\n",
      "Requirement already satisfied: jsonpointer>=1.9 in c:\\users\\sachi\\appdata\\local\\programs\\python\\python311\\lib\\site-packages (from jsonpatch<2.0,>=1.33->langchain-core<1.0.0,>=0.3.58->langchain) (2.4)\n",
      "Requirement already satisfied: httpx<1,>=0.23.0 in c:\\users\\sachi\\appdata\\local\\programs\\python\\python311\\lib\\site-packages (from langsmith<0.4,>=0.1.17->langchain) (0.28.1)\n",
      "Requirement already satisfied: orjson<4.0.0,>=3.9.14 in c:\\users\\sachi\\appdata\\local\\programs\\python\\python311\\lib\\site-packages (from langsmith<0.4,>=0.1.17->langchain) (3.10.12)\n",
      "Requirement already satisfied: requests-toolbelt<2.0.0,>=1.0.0 in c:\\users\\sachi\\appdata\\local\\programs\\python\\python311\\lib\\site-packages (from langsmith<0.4,>=0.1.17->langchain) (1.0.0)\n",
      "Requirement already satisfied: zstandard<0.24.0,>=0.23.0 in c:\\users\\sachi\\appdata\\local\\programs\\python\\python311\\lib\\site-packages (from langsmith<0.4,>=0.1.17->langchain) (0.23.0)\n",
      "Requirement already satisfied: anyio in c:\\users\\sachi\\appdata\\local\\programs\\python\\python311\\lib\\site-packages (from httpx<1,>=0.23.0->langsmith<0.4,>=0.1.17->langchain) (4.0.0)\n",
      "Requirement already satisfied: httpcore==1.* in c:\\users\\sachi\\appdata\\local\\programs\\python\\python311\\lib\\site-packages (from httpx<1,>=0.23.0->langsmith<0.4,>=0.1.17->langchain) (1.0.9)\n",
      "Requirement already satisfied: h11>=0.16 in c:\\users\\sachi\\appdata\\local\\programs\\python\\python311\\lib\\site-packages (from httpcore==1.*->httpx<1,>=0.23.0->langsmith<0.4,>=0.1.17->langchain) (0.16.0)\n",
      "Requirement already satisfied: annotated-types>=0.6.0 in c:\\users\\sachi\\appdata\\local\\programs\\python\\python311\\lib\\site-packages (from pydantic<3.0.0,>=2.7.4->langchain) (0.7.0)\n",
      "Requirement already satisfied: pydantic-core==2.33.2 in c:\\users\\sachi\\appdata\\local\\programs\\python\\python311\\lib\\site-packages (from pydantic<3.0.0,>=2.7.4->langchain) (2.33.2)\n",
      "Requirement already satisfied: typing-inspection>=0.4.0 in c:\\users\\sachi\\appdata\\local\\programs\\python\\python311\\lib\\site-packages (from pydantic<3.0.0,>=2.7.4->langchain) (0.4.1)\n",
      "Requirement already satisfied: greenlet!=0.4.17 in c:\\users\\sachi\\appdata\\local\\programs\\python\\python311\\lib\\site-packages (from SQLAlchemy<3,>=1.4->langchain) (3.1.1)\n",
      "Requirement already satisfied: aiohttp<4.0.0,>=3.8.3 in c:\\users\\sachi\\appdata\\local\\programs\\python\\python311\\lib\\site-packages (from langchain-community) (3.10.5)\n",
      "Requirement already satisfied: dataclasses-json<0.7,>=0.5.7 in c:\\users\\sachi\\appdata\\local\\programs\\python\\python311\\lib\\site-packages (from langchain-community) (0.6.7)\n",
      "Requirement already satisfied: pydantic-settings<3.0.0,>=2.4.0 in c:\\users\\sachi\\appdata\\local\\programs\\python\\python311\\lib\\site-packages (from langchain-community) (2.6.1)\n",
      "Requirement already satisfied: httpx-sse<1.0.0,>=0.4.0 in c:\\users\\sachi\\appdata\\local\\programs\\python\\python311\\lib\\site-packages (from langchain-community) (0.4.0)\n",
      "Requirement already satisfied: aiohappyeyeballs>=2.3.0 in c:\\users\\sachi\\appdata\\local\\programs\\python\\python311\\lib\\site-packages (from aiohttp<4.0.0,>=3.8.3->langchain-community) (2.4.0)\n",
      "Requirement already satisfied: aiosignal>=1.1.2 in c:\\users\\sachi\\appdata\\local\\programs\\python\\python311\\lib\\site-packages (from aiohttp<4.0.0,>=3.8.3->langchain-community) (1.3.1)\n",
      "Requirement already satisfied: attrs>=17.3.0 in c:\\users\\sachi\\appdata\\local\\programs\\python\\python311\\lib\\site-packages (from aiohttp<4.0.0,>=3.8.3->langchain-community) (23.1.0)\n",
      "Requirement already satisfied: frozenlist>=1.1.1 in c:\\users\\sachi\\appdata\\local\\programs\\python\\python311\\lib\\site-packages (from aiohttp<4.0.0,>=3.8.3->langchain-community) (1.4.1)\n",
      "Requirement already satisfied: multidict<7.0,>=4.5 in c:\\users\\sachi\\appdata\\local\\programs\\python\\python311\\lib\\site-packages (from aiohttp<4.0.0,>=3.8.3->langchain-community) (6.0.5)\n",
      "Requirement already satisfied: yarl<2.0,>=1.0 in c:\\users\\sachi\\appdata\\local\\programs\\python\\python311\\lib\\site-packages (from aiohttp<4.0.0,>=3.8.3->langchain-community) (1.9.7)\n",
      "Requirement already satisfied: marshmallow<4.0.0,>=3.18.0 in c:\\users\\sachi\\appdata\\local\\programs\\python\\python311\\lib\\site-packages (from dataclasses-json<0.7,>=0.5.7->langchain-community) (3.23.1)\n",
      "Requirement already satisfied: typing-inspect<1,>=0.4.0 in c:\\users\\sachi\\appdata\\local\\programs\\python\\python311\\lib\\site-packages (from dataclasses-json<0.7,>=0.5.7->langchain-community) (0.9.0)\n",
      "Requirement already satisfied: python-dotenv>=0.21.0 in c:\\users\\sachi\\appdata\\local\\programs\\python\\python311\\lib\\site-packages (from pydantic-settings<3.0.0,>=2.4.0->langchain-community) (1.0.1)\n",
      "Requirement already satisfied: mypy-extensions>=0.3.0 in c:\\users\\sachi\\appdata\\local\\programs\\python\\python311\\lib\\site-packages (from typing-inspect<1,>=0.4.0->dataclasses-json<0.7,>=0.5.7->langchain-community) (1.0.0)\n",
      "Requirement already satisfied: distro<2,>=1.7.0 in c:\\users\\sachi\\appdata\\local\\programs\\python\\python311\\lib\\site-packages (from groq) (1.9.0)\n",
      "Requirement already satisfied: sniffio in c:\\users\\sachi\\appdata\\local\\programs\\python\\python311\\lib\\site-packages (from groq) (1.3.0)\n",
      "Requirement already satisfied: MarkupSafe>=2.0 in c:\\users\\sachi\\appdata\\local\\programs\\python\\python311\\lib\\site-packages (from jinja2->altair<6,>=4.0->streamlit) (2.1.3)\n",
      "Requirement already satisfied: jsonschema-specifications>=2023.03.6 in c:\\users\\sachi\\appdata\\local\\programs\\python\\python311\\lib\\site-packages (from jsonschema>=3.0->altair<6,>=4.0->streamlit) (2023.7.1)\n",
      "Requirement already satisfied: referencing>=0.28.4 in c:\\users\\sachi\\appdata\\local\\programs\\python\\python311\\lib\\site-packages (from jsonschema>=3.0->altair<6,>=4.0->streamlit) (0.30.2)\n",
      "Requirement already satisfied: rpds-py>=0.7.1 in c:\\users\\sachi\\appdata\\local\\programs\\python\\python311\\lib\\site-packages (from jsonschema>=3.0->altair<6,>=4.0->streamlit) (0.10.3)\n",
      "Requirement already satisfied: mdurl~=0.1 in c:\\users\\sachi\\appdata\\local\\programs\\python\\python311\\lib\\site-packages (from markdown-it-py>=2.2.0->rich<14,>=10.14.0->streamlit) (0.1.2)\n",
      "Requirement already satisfied: six>=1.5 in c:\\users\\sachi\\appdata\\local\\programs\\python\\python311\\lib\\site-packages (from python-dateutil>=2.8.2->pandas<3,>=1.3.0->streamlit) (1.16.0)\n"
     ]
    }
   ],
   "source": [
    "!pip install streamlit langchain langchain-community langchain-groq streamlit groq"
   ]
  },
  {
   "cell_type": "code",
   "execution_count": 18,
   "id": "a656002b-889a-4eb0-83b8-f2c8ee4923c4",
   "metadata": {},
   "outputs": [
    {
     "name": "stdout",
     "output_type": "stream",
     "text": [
      "Requirement already satisfied: scipy in c:\\users\\sachi\\appdata\\local\\programs\\python\\python311\\lib\\site-packages (1.15.3)\n",
      "Requirement already satisfied: numpy<2.5,>=1.23.5 in c:\\users\\sachi\\appdata\\local\\programs\\python\\python311\\lib\\site-packages (from scipy) (1.26.4)\n"
     ]
    }
   ],
   "source": [
    "!pip install scipy"
   ]
  },
  {
   "cell_type": "code",
   "execution_count": 19,
   "id": "c5319ed5-5f54-4660-90be-ad07fb9df3c9",
   "metadata": {},
   "outputs": [],
   "source": [
    "import os\n",
    "import streamlit as st\n",
    "import pickle\n",
    "\n",
    "from langchain_community.document_loaders import UnstructuredURLLoader\n",
    "from langchain.text_splitter import RecursiveCharacterTextSplitter\n",
    "from langchain.embeddings import HuggingFaceEmbeddings\n",
    "from langchain.vectorstores import FAISS\n",
    "from langchain_groq import ChatGroq\n",
    "from langchain.chains import RetrievalQA"
   ]
  },
  {
   "cell_type": "code",
   "execution_count": 20,
   "id": "4c90e6cf-b706-4979-8f88-b7d131b188c3",
   "metadata": {},
   "outputs": [
    {
     "data": {
      "text/plain": [
       "ChatGroq(client=<groq.resources.chat.completions.Completions object at 0x000001DE98C95210>, async_client=<groq.resources.chat.completions.AsyncCompletions object at 0x000001DE98CB4090>, model_name='llama3-70b-8192', model_kwargs={}, groq_api_key=SecretStr('**********'))"
      ]
     },
     "execution_count": 20,
     "metadata": {},
     "output_type": "execute_result"
    }
   ],
   "source": [
    "groq_api_key = \"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\"\n",
    "llm = ChatGroq(api_key=groq_api_key, model_name=\"llama3-70b-8192\")\n",
    "llm"
   ]
  },
  {
   "cell_type": "code",
   "execution_count": 21,
   "id": "2c726137-a096-42d6-a2dc-a6bab0c0b9cf",
   "metadata": {},
   "outputs": [],
   "source": [
    "def load_and_index_data():\n",
    "    urls = [\n",
    "        \"https://www.moneycontrol.com/news/business/markets/wall-street-rises-as-tesla-soars-on-ai-optimism-11351111.html\",\n",
    "        \"https://www.moneycontrol.com/news/business/tata-motors-launches-punch-icng-price-starts-at-rs-7-1-lakh-11098751.html\"\n",
    "    ]\n",
    "\n",
    "    with st.spinner(\"📥 Loading data from URLs...\"):\n",
    "        loader = UnstructuredURLLoader(urls=urls)\n",
    "        data = loader.load()\n",
    "\n",
    "    splitter = RecursiveCharacterTextSplitter(chunk_size=1000, chunk_overlap=200)\n",
    "    docs = splitter.split_documents(data)\n",
    "\n",
    "    embeddings = HuggingFaceEmbeddings()\n",
    "    vector_index = FAISS.from_documents(docs, embeddings)\n",
    "\n",
    "    with open(\"vector_index.pkl\", \"wb\") as f:\n",
    "        pickle.dump(vector_index, f)\n",
    "\n",
    "    return vector_index"
   ]
  },
  {
   "cell_type": "code",
   "execution_count": 22,
   "id": "28c3aa53-b3d2-4b69-9977-f664a173b86d",
   "metadata": {},
   "outputs": [],
   "source": [
    "if os.path.exists(\"vector_index.pkl\"):\n",
    "    with open(\"vector_index.pkl\", \"rb\") as f:\n",
    "        vector_index = pickle.load(f)\n",
    "else:\n",
    "    vector_index = load_and_index_data()"
   ]
  },
  {
   "cell_type": "code",
   "execution_count": 23,
   "id": "d15a18d2-63fc-4ac9-af67-531d876b5f8d",
   "metadata": {},
   "outputs": [
    {
     "data": {
      "text/plain": [
       "RetrievalQA(verbose=False, combine_documents_chain=StuffDocumentsChain(verbose=False, llm_chain=LLMChain(verbose=False, prompt=ChatPromptTemplate(input_variables=['context', 'question'], input_types={}, partial_variables={}, messages=[SystemMessagePromptTemplate(prompt=PromptTemplate(input_variables=['context'], input_types={}, partial_variables={}, template=\"Use the following pieces of context to answer the user's question. \\nIf you don't know the answer, just say that you don't know, don't try to make up an answer.\\n----------------\\n{context}\"), additional_kwargs={}), HumanMessagePromptTemplate(prompt=PromptTemplate(input_variables=['question'], input_types={}, partial_variables={}, template='{question}'), additional_kwargs={})]), llm=ChatGroq(client=<groq.resources.chat.completions.Completions object at 0x000001DE98C95210>, async_client=<groq.resources.chat.completions.AsyncCompletions object at 0x000001DE98CB4090>, model_name='llama3-70b-8192', model_kwargs={}, groq_api_key=SecretStr('**********')), output_parser=StrOutputParser(), llm_kwargs={}), document_prompt=PromptTemplate(input_variables=['page_content'], input_types={}, partial_variables={}, template='{page_content}'), document_variable_name='context'), return_source_documents=True, retriever=VectorStoreRetriever(tags=['FAISS', 'HuggingFaceEmbeddings'], vectorstore=<langchain_community.vectorstores.faiss.FAISS object at 0x000001DE98CB4C90>, search_kwargs={}))"
      ]
     },
     "execution_count": 23,
     "metadata": {},
     "output_type": "execute_result"
    }
   ],
   "source": [
    "qa_chain = RetrievalQA.from_chain_type(\n",
    "    llm=llm,\n",
    "    chain_type=\"stuff\",\n",
    "    retriever=vector_index.as_retriever(),\n",
    "    return_source_documents=True\n",
    ")\n",
    "qa_chain"
   ]
  },
  {
   "cell_type": "code",
   "execution_count": 24,
   "id": "8e42e104-d7b6-4d3b-b845-b14cf54a4317",
   "metadata": {},
   "outputs": [
    {
     "name": "stdout",
     "output_type": "stream",
     "text": [
      "🔎 Retrieved Documents: 4\n",
      "Trending Topics\n",
      "\n",
      "Sensex TodayBajaj Finance Share PriceTata Motors Share PriceSpiceJet Share PriceIndian Hotels Share PriceIndiGo Share Price\n",
      "\n",
      "Wall Street rises as Tesla soars on AI optimism\n",
      "\n",
      "Tesla (TSLA.O) rallied 10% after Morgan Stanley upgraded the electric car maker to \"overweight\" from \"equal-w \n",
      "---\n",
      "Trending Topics\n",
      "\n",
      "Mutual FundsGold PriceGold Rate TodaySensex LiveIndia Coal Import\n",
      "\n",
      "Tata Motors launches Punch iCNG, price starts at Rs 7.1 lakh\n",
      "\n",
      "The Punch iCNG is equipped with the company's proprietary twin-cylinder technology with enhanced safety features like a micro-switch to keep the car switc \n",
      "---\n",
      "The company also said it has also introduced the twin-cylinder technology on its Tiago and Tigor models.\n",
      "\n",
      "The Tiago iCNG is priced between Rs 6.55 lakh and Rs 8.1 lakh, while the Tigor iCNG comes at a price range of Rs 7.8 lakh to Rs 8.95 lakh.\n",
      "\n",
      "Tata Motors Passenger Vehicles Ltd Head-Marketing, Vin \n",
      "---\n",
      "Advisory Alert:\n",
      "\n",
      "Follow Us On:\n",
      "\n",
      "Stocks: A B C D E F G H I J K L M N O P Q R S T U V W X Y Z Others\n",
      "\n",
      "Trending Topics\n",
      "\n",
      "Sensex Today Israel Iran War News TS Inter Supply Results Modi Cyprus Visit Vance Boelter TS Inter Supply Results Trump Military Parade Israel Iran Strikes Iran drone attack Google cl \n",
      "---\n"
     ]
    }
   ],
   "source": [
    "docs = vector_index.as_retriever().get_relevant_documents(query)\n",
    "print(\"🔎 Retrieved Documents:\", len(docs))\n",
    "for d in docs:\n",
    "    print(d.page_content[:300], \"\\n---\")\n"
   ]
  },
  {
   "cell_type": "code",
   "execution_count": 25,
   "id": "ba9ec43f-1fb8-4211-87a7-6256ad999cac",
   "metadata": {},
   "outputs": [],
   "source": [
    "def get_answer(query, retriever, qa_chain):\n",
    "    docs = retriever.get_relevant_documents(query)\n",
    "    print(f\"✅ Retrieved {len(docs)} documents for: '{query}'\")\n",
    "    if len(docs) == 0:\n",
    "        print(\"❌ No relevant documents found.\")\n",
    "        return {\"answer\": \"No relevant information found.\", \"sources\": \"\"}\n",
    "    \n",
    "    result = qa_chain.invoke({\"query\": query, \"input_documents\": docs})\n",
    "    return result"
   ]
  },
  {
   "cell_type": "code",
   "execution_count": 29,
   "id": "054fcf79-9102-49d8-8818-636ff3863f4e",
   "metadata": {},
   "outputs": [
    {
     "name": "stdout",
     "output_type": "stream",
     "text": [
      "✅ Retrieved 4 documents for: 'What is Tiago ongoing price?'\n",
      "📄 Answer: {'query': 'What is Tiago ongoing price?', 'input_documents': [Document(id='3a6f762a-6255-4708-b35c-1f9d52b79871', metadata={'source': 'https://www.moneycontrol.com/news/business/tata-motors-launches-punch-icng-price-starts-at-rs-7-1-lakh-11098751.html'}, page_content='The company also said it has also introduced the twin-cylinder technology on its Tiago and Tigor models.\\n\\nThe Tiago iCNG is priced between Rs 6.55 lakh and Rs 8.1 lakh, while the Tigor iCNG comes at a price range of Rs 7.8 lakh to Rs 8.95 lakh.\\n\\nTata Motors Passenger Vehicles Ltd Head-Marketing, Vinay Pant said these introductions put together will make the company\\'s CNG line up \"appealing, holistic, and stronger than ever\".\\n\\nPTI\\n\\nfirst published: Aug 4, 2023 02:17 pm\\n\\nDiscover the latest Business News, Budget 2025 News, Sensex, and Nifty updates. Obtain Personal Finance insights, tax queries, and expert opinions on Moneycontrol or download the Moneycontrol App to stay updated!\\n\\nAdvertisement\\n\\nRemove Ad\\n\\nAdvertisement\\n\\nRemove Ad\\n\\nAdvertisement\\n\\nRemove Ad\\n\\nAdvertisement\\n\\nRemove Ad\\n\\nAdvertisement\\n\\nRemove Ad\\n\\nAdvertisement\\n\\nRemove Ad\\n\\nAdvisory Alert:\\n\\nFollow Us On:\\n\\nStocks: A B C D E F G H I J K L M N O P Q R S T U V W X Y Z Others\\n\\nTrending Topics'), Document(id='d14039bf-3531-4682-b872-8da04f7fb1d6', metadata={'source': 'https://www.moneycontrol.com/news/business/tata-motors-launches-punch-icng-price-starts-at-rs-7-1-lakh-11098751.html'}, page_content=\"Trending Topics\\n\\nMutual FundsGold PriceGold Rate TodaySensex LiveIndia Coal Import\\n\\nTata Motors launches Punch iCNG, price starts at Rs 7.1 lakh\\n\\nThe Punch iCNG is equipped with the company's proprietary twin-cylinder technology with enhanced safety features like a micro-switch to keep the car switched off at the time of refuelling and thermal incident protection that cuts off CNG supply to the engine and releases gas into the atmosphere, Tata Motors said in a statement.\\n\\nPTI\\n\\nAugust 04, 2023 / 14:17 IST\\n\\nTata Motors launches Punch iCNG, price starts at Rs 7.1 lakh\\n\\nWatchlist\\n\\nPortfolio\\n\\nMessage\\n\\nSet Alert\\n\\nlive\\n\\nbselive\\n\\nnselive\\n\\nVolume\\n\\nTodays L/H\\n\\nMore\\n\\nTata Motors on Friday launched the CNG variant of its micro SUV Punch priced between Rs 7.1 lakh and Rs 9.68 lakh (ex-showroom, Delhi).\"), Document(id='9f35790e-727e-42a4-857f-0d48491ba08e', metadata={'source': 'https://www.moneycontrol.com/news/business/tata-motors-launches-punch-icng-price-starts-at-rs-7-1-lakh-11098751.html'}, page_content=\"Set Alert\\n\\nlive\\n\\nbselive\\n\\nnselive\\n\\nVolume\\n\\nTodays L/H\\n\\nMore\\n\\nTata Motors on Friday launched the CNG variant of its micro SUV Punch priced between Rs 7.1 lakh and Rs 9.68 lakh (ex-showroom, Delhi).\\n\\nThe Punch iCNG is equipped with the company's proprietary twin-cylinder technology with enhanced safety features like a micro-switch to keep the car switched off at the time of refuelling and thermal incident protection that cuts off CNG supply to the engine and releases gas into the atmosphere, Tata Motors said in a statement.\\n\\nStory continues below Advertisement\\n\\nRemove Ad\\n\\nIt is also equipped with other features such as voice assisted electric sunroof, automatic projector headlamps, LED DRLs, 16-inch diamond cut alloy wheels, 7-inch infotainment system by Harman that supports Android Auto and Apple Carplay connectivity, rain sensing wipers and height adjustable driver seat.\\n\\nThe company also said it has also introduced the twin-cylinder technology on its Tiago and Tigor models.\"), Document(id='f2a90035-f5e2-42db-9ce6-1f8f2712cc09', metadata={'source': 'https://www.moneycontrol.com/news/business/markets/wall-street-rises-as-tesla-soars-on-ai-optimism-11351111.html'}, page_content='Income Tax Calculator EMI Calculator Retirement Planning Gratuity Calculator\\n\\nCommunity\\n\\nStock Markets\\n\\nNetwork 18 Sites\\n\\nNews18 Firstpost CNBC TV18 News18 Hindi Cricketnext Overdrive\\n\\nQuick Links\\n\\nAbout Us Contact Us Advisory Alert Advertise with Us SupportDisclaimer Privacy Policy Cookie Policy Terms & Conditions Financial Terms (Glossary) Sitemap Investors\\n\\nDownload MC Apps:\\n\\nCopyright © Network18 Media & Investments Limited. All rights reserved. Reproduction of news articles, photos, videos or any other content in whole or in part in any form or medium without express written permission of moneycontrol.com is prohibited.\\n\\nYou got 30 Day’s Trial of\\n\\nGrab it Now\\n\\nAd-Free Experience\\n\\nTop Articles from Financial Times\\n\\nActionable Insights\\n\\nMC Research\\n\\nEconomic Calendar\\n\\n& Many More\\n\\nYou are already a Moneycontrol Pro user.\\n\\nFaizan Javed')], 'result': 'According to the provided context, the Tiago iCNG is between Rs 6.55 lakh and Rs 8.1 lakh.', 'source_documents': [Document(id='3a6f762a-6255-4708-b35c-1f9d52b79871', metadata={'source': 'https://www.moneycontrol.com/news/business/tata-motors-launches-punch-icng-price-starts-at-rs-7-1-lakh-11098751.html'}, page_content='The company also said it has also introduced the twin-cylinder technology on its Tiago and Tigor models.\\n\\nThe Tiago iCNG is priced between Rs 6.55 lakh and Rs 8.1 lakh, while the Tigor iCNG comes at a price range of Rs 7.8 lakh to Rs 8.95 lakh.\\n\\nTata Motors Passenger Vehicles Ltd Head-Marketing, Vinay Pant said these introductions put together will make the company\\'s CNG line up \"appealing, holistic, and stronger than ever\".\\n\\nPTI\\n\\nfirst published: Aug 4, 2023 02:17 pm\\n\\nDiscover the latest Business News, Budget 2025 News, Sensex, and Nifty updates. Obtain Personal Finance insights, tax queries, and expert opinions on Moneycontrol or download the Moneycontrol App to stay updated!\\n\\nAdvertisement\\n\\nRemove Ad\\n\\nAdvertisement\\n\\nRemove Ad\\n\\nAdvertisement\\n\\nRemove Ad\\n\\nAdvertisement\\n\\nRemove Ad\\n\\nAdvertisement\\n\\nRemove Ad\\n\\nAdvertisement\\n\\nRemove Ad\\n\\nAdvisory Alert:\\n\\nFollow Us On:\\n\\nStocks: A B C D E F G H I J K L M N O P Q R S T U V W X Y Z Others\\n\\nTrending Topics'), Document(id='d14039bf-3531-4682-b872-8da04f7fb1d6', metadata={'source': 'https://www.moneycontrol.com/news/business/tata-motors-launches-punch-icng-price-starts-at-rs-7-1-lakh-11098751.html'}, page_content=\"Trending Topics\\n\\nMutual FundsGold PriceGold Rate TodaySensex LiveIndia Coal Import\\n\\nTata Motors launches Punch iCNG, price starts at Rs 7.1 lakh\\n\\nThe Punch iCNG is equipped with the company's proprietary twin-cylinder technology with enhanced safety features like a micro-switch to keep the car switched off at the time of refuelling and thermal incident protection that cuts off CNG supply to the engine and releases gas into the atmosphere, Tata Motors said in a statement.\\n\\nPTI\\n\\nAugust 04, 2023 / 14:17 IST\\n\\nTata Motors launches Punch iCNG, price starts at Rs 7.1 lakh\\n\\nWatchlist\\n\\nPortfolio\\n\\nMessage\\n\\nSet Alert\\n\\nlive\\n\\nbselive\\n\\nnselive\\n\\nVolume\\n\\nTodays L/H\\n\\nMore\\n\\nTata Motors on Friday launched the CNG variant of its micro SUV Punch priced between Rs 7.1 lakh and Rs 9.68 lakh (ex-showroom, Delhi).\"), Document(id='9f35790e-727e-42a4-857f-0d48491ba08e', metadata={'source': 'https://www.moneycontrol.com/news/business/tata-motors-launches-punch-icng-price-starts-at-rs-7-1-lakh-11098751.html'}, page_content=\"Set Alert\\n\\nlive\\n\\nbselive\\n\\nnselive\\n\\nVolume\\n\\nTodays L/H\\n\\nMore\\n\\nTata Motors on Friday launched the CNG variant of its micro SUV Punch priced between Rs 7.1 lakh and Rs 9.68 lakh (ex-showroom, Delhi).\\n\\nThe Punch iCNG is equipped with the company's proprietary twin-cylinder technology with enhanced safety features like a micro-switch to keep the car switched off at the time of refuelling and thermal incident protection that cuts off CNG supply to the engine and releases gas into the atmosphere, Tata Motors said in a statement.\\n\\nStory continues below Advertisement\\n\\nRemove Ad\\n\\nIt is also equipped with other features such as voice assisted electric sunroof, automatic projector headlamps, LED DRLs, 16-inch diamond cut alloy wheels, 7-inch infotainment system by Harman that supports Android Auto and Apple Carplay connectivity, rain sensing wipers and height adjustable driver seat.\\n\\nThe company also said it has also introduced the twin-cylinder technology on its Tiago and Tigor models.\"), Document(id='f2a90035-f5e2-42db-9ce6-1f8f2712cc09', metadata={'source': 'https://www.moneycontrol.com/news/business/markets/wall-street-rises-as-tesla-soars-on-ai-optimism-11351111.html'}, page_content='Income Tax Calculator EMI Calculator Retirement Planning Gratuity Calculator\\n\\nCommunity\\n\\nStock Markets\\n\\nNetwork 18 Sites\\n\\nNews18 Firstpost CNBC TV18 News18 Hindi Cricketnext Overdrive\\n\\nQuick Links\\n\\nAbout Us Contact Us Advisory Alert Advertise with Us SupportDisclaimer Privacy Policy Cookie Policy Terms & Conditions Financial Terms (Glossary) Sitemap Investors\\n\\nDownload MC Apps:\\n\\nCopyright © Network18 Media & Investments Limited. All rights reserved. Reproduction of news articles, photos, videos or any other content in whole or in part in any form or medium without express written permission of moneycontrol.com is prohibited.\\n\\nYou got 30 Day’s Trial of\\n\\nGrab it Now\\n\\nAd-Free Experience\\n\\nTop Articles from Financial Times\\n\\nActionable Insights\\n\\nMC Research\\n\\nEconomic Calendar\\n\\n& Many More\\n\\nYou are already a Moneycontrol Pro user.\\n\\nFaizan Javed')]}\n",
      "🔗 Sources:\n",
      "- \n"
     ]
    }
   ],
   "source": [
    "query = \"What is Tiago ongoing price?\"\n",
    "result = get_answer(query, retriever=vector_index.as_retriever(), qa_chain=qa_chain)\n",
    "\n",
    "print(\"📄 Answer:\", result)\n",
    "print(\"🔗 Sources:\")\n",
    "for source in result.get(\"sources\", \"\").split(\"\\n\"):\n",
    "    print(\"-\", source)"
   ]
  },
  {
   "cell_type": "code",
   "execution_count": 27,
   "id": "2defc30e-2380-470b-90e6-d36ac6793188",
   "metadata": {},
   "outputs": [
    {
     "name": "stdout",
     "output_type": "stream",
     "text": [
      "{'query': \"What is Tata's stock trend?\", 'input_documents': [Document(id='25857c52-aaaf-4d1b-8206-6413ddeb3c88', metadata={'source': 'https://www.moneycontrol.com/news/business/markets/wall-street-rises-as-tesla-soars-on-ai-optimism-11351111.html'}, page_content='Trending Topics\\n\\nSensex TodayBajaj Finance Share PriceTata Motors Share PriceSpiceJet Share PriceIndian Hotels Share PriceIndiGo Share Price\\n\\nWall Street rises as Tesla soars on AI optimism\\n\\nTesla (TSLA.O) rallied 10% after Morgan Stanley upgraded the electric car maker to \"overweight\" from \"equal-weight,\" saying its Dojo supercomputer could boost the company\\'s market value by nearly $600 billion.\\n\\nReuters\\n\\nSeptember 12, 2023 / 06:56 IST\\n\\nWall Street rises as Tesla soars on AI optimism\\n\\nThe Nasdaq closed sharply higher on Monday as Tesla surged on optimism around artificial intelligence and investors awaited inflation data due later this week.\\n\\nTesla (TSLA.O) rallied 10% after Morgan Stanley upgraded the electric car maker to \"overweight\" from \"equal-weight,\" saying its Dojo supercomputer could boost the company\\'s market value by nearly $600 billion.\\n\\nStory continues below Advertisement\\n\\nRemove Ad'), Document(id='d14039bf-3531-4682-b872-8da04f7fb1d6', metadata={'source': 'https://www.moneycontrol.com/news/business/tata-motors-launches-punch-icng-price-starts-at-rs-7-1-lakh-11098751.html'}, page_content=\"Trending Topics\\n\\nMutual FundsGold PriceGold Rate TodaySensex LiveIndia Coal Import\\n\\nTata Motors launches Punch iCNG, price starts at Rs 7.1 lakh\\n\\nThe Punch iCNG is equipped with the company's proprietary twin-cylinder technology with enhanced safety features like a micro-switch to keep the car switched off at the time of refuelling and thermal incident protection that cuts off CNG supply to the engine and releases gas into the atmosphere, Tata Motors said in a statement.\\n\\nPTI\\n\\nAugust 04, 2023 / 14:17 IST\\n\\nTata Motors launches Punch iCNG, price starts at Rs 7.1 lakh\\n\\nWatchlist\\n\\nPortfolio\\n\\nMessage\\n\\nSet Alert\\n\\nlive\\n\\nbselive\\n\\nnselive\\n\\nVolume\\n\\nTodays L/H\\n\\nMore\\n\\nTata Motors on Friday launched the CNG variant of its micro SUV Punch priced between Rs 7.1 lakh and Rs 9.68 lakh (ex-showroom, Delhi).\"), Document(id='3a6f762a-6255-4708-b35c-1f9d52b79871', metadata={'source': 'https://www.moneycontrol.com/news/business/tata-motors-launches-punch-icng-price-starts-at-rs-7-1-lakh-11098751.html'}, page_content='The company also said it has also introduced the twin-cylinder technology on its Tiago and Tigor models.\\n\\nThe Tiago iCNG is priced between Rs 6.55 lakh and Rs 8.1 lakh, while the Tigor iCNG comes at a price range of Rs 7.8 lakh to Rs 8.95 lakh.\\n\\nTata Motors Passenger Vehicles Ltd Head-Marketing, Vinay Pant said these introductions put together will make the company\\'s CNG line up \"appealing, holistic, and stronger than ever\".\\n\\nPTI\\n\\nfirst published: Aug 4, 2023 02:17 pm\\n\\nDiscover the latest Business News, Budget 2025 News, Sensex, and Nifty updates. Obtain Personal Finance insights, tax queries, and expert opinions on Moneycontrol or download the Moneycontrol App to stay updated!\\n\\nAdvertisement\\n\\nRemove Ad\\n\\nAdvertisement\\n\\nRemove Ad\\n\\nAdvertisement\\n\\nRemove Ad\\n\\nAdvertisement\\n\\nRemove Ad\\n\\nAdvertisement\\n\\nRemove Ad\\n\\nAdvertisement\\n\\nRemove Ad\\n\\nAdvisory Alert:\\n\\nFollow Us On:\\n\\nStocks: A B C D E F G H I J K L M N O P Q R S T U V W X Y Z Others\\n\\nTrending Topics'), Document(id='dc7940d7-42bf-4e7c-91aa-7a5d174627db', metadata={'source': 'https://www.moneycontrol.com/news/business/markets/wall-street-rises-as-tesla-soars-on-ai-optimism-11351111.html'}, page_content='Advisory Alert:\\n\\nFollow Us On:\\n\\nStocks: A B C D E F G H I J K L M N O P Q R S T U V W X Y Z Others\\n\\nTrending Topics\\n\\nSensex Today Israel Iran War News TS Inter Supply Results Modi Cyprus Visit Vance Boelter TS Inter Supply Results Trump Military Parade Israel Iran Strikes Iran drone attack Google cloud outage\\n\\nNews\\n\\nBusiness Markets Stocks India News City News Economy Mutual Funds Personal Finance IPO News Startups\\n\\nMarkets\\n\\nHome Currencies Commodities Pre-Market IPO Global Market Bonds\\n\\nPersonal Finance\\n\\nHome Loans up to 50 Lakhs Credit Cards Lifetime Free Finance TrackerNew Fixed Deposits Fixed Deposit Comparison Fixed Income\\n\\nMutual Funds\\n\\nHome MC 30 Top Ranked Funds ETFs Mutual Fund Screener\\n\\nTools\\n\\nIncome Tax Calculator EMI Calculator Retirement Planning Gratuity Calculator\\n\\nCommunity\\n\\nStock Markets\\n\\nNetwork 18 Sites\\n\\nNews18 Firstpost CNBC TV18 News18 Hindi Cricketnext Overdrive\\n\\nQuick Links')], 'result': \"The provided context does not explicitly state the current trend of Tata's stock. It only mentions that Tata Motors has launched a new product, Punch iCNG, and provides its price range. It does not provide any information about Tata's stock trend.\", 'source_documents': [Document(id='25857c52-aaaf-4d1b-8206-6413ddeb3c88', metadata={'source': 'https://www.moneycontrol.com/news/business/markets/wall-street-rises-as-tesla-soars-on-ai-optimism-11351111.html'}, page_content='Trending Topics\\n\\nSensex TodayBajaj Finance Share PriceTata Motors Share PriceSpiceJet Share PriceIndian Hotels Share PriceIndiGo Share Price\\n\\nWall Street rises as Tesla soars on AI optimism\\n\\nTesla (TSLA.O) rallied 10% after Morgan Stanley upgraded the electric car maker to \"overweight\" from \"equal-weight,\" saying its Dojo supercomputer could boost the company\\'s market value by nearly $600 billion.\\n\\nReuters\\n\\nSeptember 12, 2023 / 06:56 IST\\n\\nWall Street rises as Tesla soars on AI optimism\\n\\nThe Nasdaq closed sharply higher on Monday as Tesla surged on optimism around artificial intelligence and investors awaited inflation data due later this week.\\n\\nTesla (TSLA.O) rallied 10% after Morgan Stanley upgraded the electric car maker to \"overweight\" from \"equal-weight,\" saying its Dojo supercomputer could boost the company\\'s market value by nearly $600 billion.\\n\\nStory continues below Advertisement\\n\\nRemove Ad'), Document(id='d14039bf-3531-4682-b872-8da04f7fb1d6', metadata={'source': 'https://www.moneycontrol.com/news/business/tata-motors-launches-punch-icng-price-starts-at-rs-7-1-lakh-11098751.html'}, page_content=\"Trending Topics\\n\\nMutual FundsGold PriceGold Rate TodaySensex LiveIndia Coal Import\\n\\nTata Motors launches Punch iCNG, price starts at Rs 7.1 lakh\\n\\nThe Punch iCNG is equipped with the company's proprietary twin-cylinder technology with enhanced safety features like a micro-switch to keep the car switched off at the time of refuelling and thermal incident protection that cuts off CNG supply to the engine and releases gas into the atmosphere, Tata Motors said in a statement.\\n\\nPTI\\n\\nAugust 04, 2023 / 14:17 IST\\n\\nTata Motors launches Punch iCNG, price starts at Rs 7.1 lakh\\n\\nWatchlist\\n\\nPortfolio\\n\\nMessage\\n\\nSet Alert\\n\\nlive\\n\\nbselive\\n\\nnselive\\n\\nVolume\\n\\nTodays L/H\\n\\nMore\\n\\nTata Motors on Friday launched the CNG variant of its micro SUV Punch priced between Rs 7.1 lakh and Rs 9.68 lakh (ex-showroom, Delhi).\"), Document(id='3a6f762a-6255-4708-b35c-1f9d52b79871', metadata={'source': 'https://www.moneycontrol.com/news/business/tata-motors-launches-punch-icng-price-starts-at-rs-7-1-lakh-11098751.html'}, page_content='The company also said it has also introduced the twin-cylinder technology on its Tiago and Tigor models.\\n\\nThe Tiago iCNG is priced between Rs 6.55 lakh and Rs 8.1 lakh, while the Tigor iCNG comes at a price range of Rs 7.8 lakh to Rs 8.95 lakh.\\n\\nTata Motors Passenger Vehicles Ltd Head-Marketing, Vinay Pant said these introductions put together will make the company\\'s CNG line up \"appealing, holistic, and stronger than ever\".\\n\\nPTI\\n\\nfirst published: Aug 4, 2023 02:17 pm\\n\\nDiscover the latest Business News, Budget 2025 News, Sensex, and Nifty updates. Obtain Personal Finance insights, tax queries, and expert opinions on Moneycontrol or download the Moneycontrol App to stay updated!\\n\\nAdvertisement\\n\\nRemove Ad\\n\\nAdvertisement\\n\\nRemove Ad\\n\\nAdvertisement\\n\\nRemove Ad\\n\\nAdvertisement\\n\\nRemove Ad\\n\\nAdvertisement\\n\\nRemove Ad\\n\\nAdvertisement\\n\\nRemove Ad\\n\\nAdvisory Alert:\\n\\nFollow Us On:\\n\\nStocks: A B C D E F G H I J K L M N O P Q R S T U V W X Y Z Others\\n\\nTrending Topics'), Document(id='dc7940d7-42bf-4e7c-91aa-7a5d174627db', metadata={'source': 'https://www.moneycontrol.com/news/business/markets/wall-street-rises-as-tesla-soars-on-ai-optimism-11351111.html'}, page_content='Advisory Alert:\\n\\nFollow Us On:\\n\\nStocks: A B C D E F G H I J K L M N O P Q R S T U V W X Y Z Others\\n\\nTrending Topics\\n\\nSensex Today Israel Iran War News TS Inter Supply Results Modi Cyprus Visit Vance Boelter TS Inter Supply Results Trump Military Parade Israel Iran Strikes Iran drone attack Google cloud outage\\n\\nNews\\n\\nBusiness Markets Stocks India News City News Economy Mutual Funds Personal Finance IPO News Startups\\n\\nMarkets\\n\\nHome Currencies Commodities Pre-Market IPO Global Market Bonds\\n\\nPersonal Finance\\n\\nHome Loans up to 50 Lakhs Credit Cards Lifetime Free Finance TrackerNew Fixed Deposits Fixed Deposit Comparison Fixed Income\\n\\nMutual Funds\\n\\nHome MC 30 Top Ranked Funds ETFs Mutual Fund Screener\\n\\nTools\\n\\nIncome Tax Calculator EMI Calculator Retirement Planning Gratuity Calculator\\n\\nCommunity\\n\\nStock Markets\\n\\nNetwork 18 Sites\\n\\nNews18 Firstpost CNBC TV18 News18 Hindi Cricketnext Overdrive\\n\\nQuick Links')]}\n"
     ]
    }
   ],
   "source": [
    "print(result)"
   ]
  },
  {
   "cell_type": "code",
   "execution_count": 32,
   "id": "ac432dd8-7e61-4a38-a662-1f09bc5be667",
   "metadata": {},
   "outputs": [],
   "source": [
    "import langchain\n",
    "from langchain.chains import LLMChain\n",
    "from langchain.prompts import PromptTemplate"
   ]
  },
  {
   "cell_type": "code",
   "execution_count": 33,
   "id": "8af058da-20a6-4c74-8546-ee048362001f",
   "metadata": {},
   "outputs": [
    {
     "name": "stderr",
     "output_type": "stream",
     "text": [
      "C:\\Users\\sachi\\AppData\\Local\\Temp\\ipykernel_4960\\3087775585.py:2: LangChainDeprecationWarning: The class `LLMChain` was deprecated in LangChain 0.1.17 and will be removed in 1.0. Use :meth:`~RunnableSequence, e.g., `prompt | llm`` instead.\n",
      "  chain = LLMChain(llm=llm, prompt=prompt)\n"
     ]
    }
   ],
   "source": [
    "prompt = PromptTemplate.from_template(\"Qn: {Qn}\\nAnswer:\")\n",
    "chain = LLMChain(llm=llm, prompt=prompt)"
   ]
  },
  {
   "cell_type": "code",
   "execution_count": 35,
   "id": "145d3452-9bff-45cc-9e76-ad61559e29db",
   "metadata": {},
   "outputs": [
    {
     "name": "stdout",
     "output_type": "stream",
     "text": [
      "\u001b[32;1m\u001b[1;3m[chain/start]\u001b[0m \u001b[1m[chain:LLMChain] Entering Chain run with input:\n",
      "\u001b[0m{\n",
      "  \"Qn\": \"what is the on ging price of tiago?\"\n",
      "}\n",
      "\u001b[32;1m\u001b[1;3m[llm/start]\u001b[0m \u001b[1m[chain:LLMChain > llm:ChatGroq] Entering LLM run with input:\n",
      "\u001b[0m{\n",
      "  \"prompts\": [\n",
      "    \"Human: Qn: what is the on ging price of tiago?\\nAnswer:\"\n",
      "  ]\n",
      "}\n",
      "\u001b[36;1m\u001b[1;3m[llm/end]\u001b[0m \u001b[1m[chain:LLMChain > llm:ChatGroq] [874ms] Exiting LLM run with output:\n",
      "\u001b[0m{\n",
      "  \"generations\": [\n",
      "    [\n",
      "      {\n",
      "        \"text\": \"The on-going price of Tata Tiago in India is:\\n\\n* Base Model (XE): ₹4.85 lakh - ₹5.15 lakh\\n* Mid-variant (XM): ₹5.35 lakh - ₹5.65 lakh\\n* Top-variant (XT): ₹5.85 lakh - ₹6.15 lakh\\n* CNG variant: ₹6.35 lakh - ₹6.65 lakh\\n\\nPlease note that prices may vary depending on the city, state, and other factors. It's always a good idea to check the exact price with your local dealership or Tata Motors website.\",\n",
      "        \"generation_info\": {\n",
      "          \"finish_reason\": \"stop\",\n",
      "          \"logprobs\": null\n",
      "        },\n",
      "        \"type\": \"ChatGeneration\",\n",
      "        \"message\": {\n",
      "          \"lc\": 1,\n",
      "          \"type\": \"constructor\",\n",
      "          \"id\": [\n",
      "            \"langchain\",\n",
      "            \"schema\",\n",
      "            \"messages\",\n",
      "            \"AIMessage\"\n",
      "          ],\n",
      "          \"kwargs\": {\n",
      "            \"content\": \"The on-going price of Tata Tiago in India is:\\n\\n* Base Model (XE): ₹4.85 lakh - ₹5.15 lakh\\n* Mid-variant (XM): ₹5.35 lakh - ₹5.65 lakh\\n* Top-variant (XT): ₹5.85 lakh - ₹6.15 lakh\\n* CNG variant: ₹6.35 lakh - ₹6.65 lakh\\n\\nPlease note that prices may vary depending on the city, state, and other factors. It's always a good idea to check the exact price with your local dealership or Tata Motors website.\",\n",
      "            \"response_metadata\": {\n",
      "              \"token_usage\": {\n",
      "                \"completion_tokens\": 123,\n",
      "                \"prompt_tokens\": 25,\n",
      "                \"total_tokens\": 148,\n",
      "                \"completion_time\": 0.441488427,\n",
      "                \"prompt_time\": 0.000477553,\n",
      "                \"queue_time\": 0.052490148,\n",
      "                \"total_time\": 0.44196598\n",
      "              },\n",
      "              \"model_name\": \"llama3-70b-8192\",\n",
      "              \"system_fingerprint\": \"fp_dd4ae1c591\",\n",
      "              \"finish_reason\": \"stop\",\n",
      "              \"logprobs\": null\n",
      "            },\n",
      "            \"type\": \"ai\",\n",
      "            \"id\": \"run--96e46c59-7ea1-4ba2-a5b7-cc8f93bb5f5e-0\",\n",
      "            \"usage_metadata\": {\n",
      "              \"input_tokens\": 25,\n",
      "              \"output_tokens\": 123,\n",
      "              \"total_tokens\": 148\n",
      "            },\n",
      "            \"tool_calls\": [],\n",
      "            \"invalid_tool_calls\": []\n",
      "          }\n",
      "        }\n",
      "      }\n",
      "    ]\n",
      "  ],\n",
      "  \"llm_output\": {\n",
      "    \"token_usage\": {\n",
      "      \"completion_tokens\": 123,\n",
      "      \"prompt_tokens\": 25,\n",
      "      \"total_tokens\": 148,\n",
      "      \"completion_time\": 0.441488427,\n",
      "      \"prompt_time\": 0.000477553,\n",
      "      \"queue_time\": 0.052490148,\n",
      "      \"total_time\": 0.44196598\n",
      "    },\n",
      "    \"model_name\": \"llama3-70b-8192\",\n",
      "    \"system_fingerprint\": \"fp_dd4ae1c591\"\n",
      "  },\n",
      "  \"run\": null,\n",
      "  \"type\": \"LLMResult\"\n",
      "}\n",
      "\u001b[36;1m\u001b[1;3m[chain/end]\u001b[0m \u001b[1m[chain:LLMChain] [874ms] Exiting Chain run with output:\n",
      "\u001b[0m{\n",
      "  \"text\": \"The on-going price of Tata Tiago in India is:\\n\\n* Base Model (XE): ₹4.85 lakh - ₹5.15 lakh\\n* Mid-variant (XM): ₹5.35 lakh - ₹5.65 lakh\\n* Top-variant (XT): ₹5.85 lakh - ₹6.15 lakh\\n* CNG variant: ₹6.35 lakh - ₹6.65 lakh\\n\\nPlease note that prices may vary depending on the city, state, and other factors. It's always a good idea to check the exact price with your local dealership or Tata Motors website.\"\n",
      "}\n"
     ]
    },
    {
     "data": {
      "text/plain": [
       "{'text': \"The on-going price of Tata Tiago in India is:\\n\\n* Base Model (XE): ₹4.85 lakh - ₹5.15 lakh\\n* Mid-variant (XM): ₹5.35 lakh - ₹5.65 lakh\\n* Top-variant (XT): ₹5.85 lakh - ₹6.15 lakh\\n* CNG variant: ₹6.35 lakh - ₹6.65 lakh\\n\\nPlease note that prices may vary depending on the city, state, and other factors. It's always a good idea to check the exact price with your local dealership or Tata Motors website.\"}"
      ]
     },
     "execution_count": 35,
     "metadata": {},
     "output_type": "execute_result"
    }
   ],
   "source": [
    "query = \"what is the on ging price of tiago?\"\n",
    "langchain.debug=True\n",
    "chain({\"Qn\": query}, return_only_outputs=True)"
   ]
  }
 ],
 "metadata": {
  "kernelspec": {
   "display_name": "Python 3 (ipykernel)",
   "language": "python",
   "name": "python3"
  },
  "language_info": {
   "codemirror_mode": {
    "name": "ipython",
    "version": 3
   },
   "file_extension": ".py",
   "mimetype": "text/x-python",
   "name": "python",
   "nbconvert_exporter": "python",
   "pygments_lexer": "ipython3",
   "version": "3.11.4"
  }
 },
 "nbformat": 4,
 "nbformat_minor": 5
}
